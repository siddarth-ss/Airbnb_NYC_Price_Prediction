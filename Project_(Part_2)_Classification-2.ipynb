{
  "cells": [
    {
      "cell_type": "code",
      "execution_count": 1,
      "metadata": {
        "colab": {
          "base_uri": "https://localhost:8080/",
          "height": 517,
          "resources": {
            "http://localhost:8080/nbextensions/google.colab/files.js": {
              "data": "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",
              "headers": [
                [
                  "content-type",
                  "application/javascript"
                ]
              ],
              "ok": true,
              "status": 200,
              "status_text": ""
            }
          }
        },
        "id": "nglGAE3nJgjE",
        "outputId": "13c74f36-b73b-4c4f-b40d-30a2c5b78a19"
      },
      "outputs": [
        {
          "output_type": "display_data",
          "data": {
            "text/plain": [
              "<IPython.core.display.HTML object>"
            ],
            "text/html": [
              "\n",
              "     <input type=\"file\" id=\"files-a2ac1e49-f7ba-4df8-a091-720fe485a9f6\" name=\"files[]\" multiple disabled\n",
              "        style=\"border:none\" />\n",
              "     <output id=\"result-a2ac1e49-f7ba-4df8-a091-720fe485a9f6\">\n",
              "      Upload widget is only available when the cell has been executed in the\n",
              "      current browser session. Please rerun this cell to enable.\n",
              "      </output>\n",
              "      <script src=\"/nbextensions/google.colab/files.js\"></script> "
            ]
          },
          "metadata": {}
        },
        {
          "output_type": "stream",
          "name": "stdout",
          "text": [
            "Saving Airbnb.csv to Airbnb.csv\n"
          ]
        },
        {
          "output_type": "execute_result",
          "data": {
            "text/plain": [
              "     id                                              name  host_id  \\\n",
              "0  2539                Clean & quiet apt home by the park     2787   \n",
              "1  2595                             Skylit Midtown Castle     2845   \n",
              "2  3647               THE VILLAGE OF HARLEM....NEW YORK !     4632   \n",
              "3  3831                   Cozy Entire Floor of Brownstone     4869   \n",
              "4  5022  Entire Apt: Spacious Studio/Loft by central park     7192   \n",
              "\n",
              "     host_name neighbourhood_group neighbourhood  latitude  longitude  \\\n",
              "0         John            Brooklyn    Kensington  40.64749  -73.97237   \n",
              "1     Jennifer           Manhattan       Midtown  40.75362  -73.98377   \n",
              "2    Elisabeth           Manhattan        Harlem  40.80902  -73.94190   \n",
              "3  LisaRoxanne            Brooklyn  Clinton Hill  40.68514  -73.95976   \n",
              "4        Laura           Manhattan   East Harlem  40.79851  -73.94399   \n",
              "\n",
              "         room_type  price  minimum_nights  number_of_reviews last_review  \\\n",
              "0     Private room    149               1                  9    10/19/18   \n",
              "1  Entire home/apt    225               1                 45     5/21/19   \n",
              "2     Private room    150               3                  0         NaN   \n",
              "3  Entire home/apt     89               1                270      7/5/19   \n",
              "4  Entire home/apt     80              10                  9    11/19/18   \n",
              "\n",
              "   reviews_per_month  calculated_host_listings_count  availability_365  \n",
              "0               0.21                               6               365  \n",
              "1               0.38                               2               355  \n",
              "2                NaN                               1               365  \n",
              "3               4.64                               1               194  \n",
              "4               0.10                               1                 0  "
            ],
            "text/html": [
              "\n",
              "  <div id=\"df-9879f75e-fd9e-49eb-8c02-428cfc0a3725\">\n",
              "    <div class=\"colab-df-container\">\n",
              "      <div>\n",
              "<style scoped>\n",
              "    .dataframe tbody tr th:only-of-type {\n",
              "        vertical-align: middle;\n",
              "    }\n",
              "\n",
              "    .dataframe tbody tr th {\n",
              "        vertical-align: top;\n",
              "    }\n",
              "\n",
              "    .dataframe thead th {\n",
              "        text-align: right;\n",
              "    }\n",
              "</style>\n",
              "<table border=\"1\" class=\"dataframe\">\n",
              "  <thead>\n",
              "    <tr style=\"text-align: right;\">\n",
              "      <th></th>\n",
              "      <th>id</th>\n",
              "      <th>name</th>\n",
              "      <th>host_id</th>\n",
              "      <th>host_name</th>\n",
              "      <th>neighbourhood_group</th>\n",
              "      <th>neighbourhood</th>\n",
              "      <th>latitude</th>\n",
              "      <th>longitude</th>\n",
              "      <th>room_type</th>\n",
              "      <th>price</th>\n",
              "      <th>minimum_nights</th>\n",
              "      <th>number_of_reviews</th>\n",
              "      <th>last_review</th>\n",
              "      <th>reviews_per_month</th>\n",
              "      <th>calculated_host_listings_count</th>\n",
              "      <th>availability_365</th>\n",
              "    </tr>\n",
              "  </thead>\n",
              "  <tbody>\n",
              "    <tr>\n",
              "      <th>0</th>\n",
              "      <td>2539</td>\n",
              "      <td>Clean &amp; quiet apt home by the park</td>\n",
              "      <td>2787</td>\n",
              "      <td>John</td>\n",
              "      <td>Brooklyn</td>\n",
              "      <td>Kensington</td>\n",
              "      <td>40.64749</td>\n",
              "      <td>-73.97237</td>\n",
              "      <td>Private room</td>\n",
              "      <td>149</td>\n",
              "      <td>1</td>\n",
              "      <td>9</td>\n",
              "      <td>10/19/18</td>\n",
              "      <td>0.21</td>\n",
              "      <td>6</td>\n",
              "      <td>365</td>\n",
              "    </tr>\n",
              "    <tr>\n",
              "      <th>1</th>\n",
              "      <td>2595</td>\n",
              "      <td>Skylit Midtown Castle</td>\n",
              "      <td>2845</td>\n",
              "      <td>Jennifer</td>\n",
              "      <td>Manhattan</td>\n",
              "      <td>Midtown</td>\n",
              "      <td>40.75362</td>\n",
              "      <td>-73.98377</td>\n",
              "      <td>Entire home/apt</td>\n",
              "      <td>225</td>\n",
              "      <td>1</td>\n",
              "      <td>45</td>\n",
              "      <td>5/21/19</td>\n",
              "      <td>0.38</td>\n",
              "      <td>2</td>\n",
              "      <td>355</td>\n",
              "    </tr>\n",
              "    <tr>\n",
              "      <th>2</th>\n",
              "      <td>3647</td>\n",
              "      <td>THE VILLAGE OF HARLEM....NEW YORK !</td>\n",
              "      <td>4632</td>\n",
              "      <td>Elisabeth</td>\n",
              "      <td>Manhattan</td>\n",
              "      <td>Harlem</td>\n",
              "      <td>40.80902</td>\n",
              "      <td>-73.94190</td>\n",
              "      <td>Private room</td>\n",
              "      <td>150</td>\n",
              "      <td>3</td>\n",
              "      <td>0</td>\n",
              "      <td>NaN</td>\n",
              "      <td>NaN</td>\n",
              "      <td>1</td>\n",
              "      <td>365</td>\n",
              "    </tr>\n",
              "    <tr>\n",
              "      <th>3</th>\n",
              "      <td>3831</td>\n",
              "      <td>Cozy Entire Floor of Brownstone</td>\n",
              "      <td>4869</td>\n",
              "      <td>LisaRoxanne</td>\n",
              "      <td>Brooklyn</td>\n",
              "      <td>Clinton Hill</td>\n",
              "      <td>40.68514</td>\n",
              "      <td>-73.95976</td>\n",
              "      <td>Entire home/apt</td>\n",
              "      <td>89</td>\n",
              "      <td>1</td>\n",
              "      <td>270</td>\n",
              "      <td>7/5/19</td>\n",
              "      <td>4.64</td>\n",
              "      <td>1</td>\n",
              "      <td>194</td>\n",
              "    </tr>\n",
              "    <tr>\n",
              "      <th>4</th>\n",
              "      <td>5022</td>\n",
              "      <td>Entire Apt: Spacious Studio/Loft by central park</td>\n",
              "      <td>7192</td>\n",
              "      <td>Laura</td>\n",
              "      <td>Manhattan</td>\n",
              "      <td>East Harlem</td>\n",
              "      <td>40.79851</td>\n",
              "      <td>-73.94399</td>\n",
              "      <td>Entire home/apt</td>\n",
              "      <td>80</td>\n",
              "      <td>10</td>\n",
              "      <td>9</td>\n",
              "      <td>11/19/18</td>\n",
              "      <td>0.10</td>\n",
              "      <td>1</td>\n",
              "      <td>0</td>\n",
              "    </tr>\n",
              "  </tbody>\n",
              "</table>\n",
              "</div>\n",
              "      <button class=\"colab-df-convert\" onclick=\"convertToInteractive('df-9879f75e-fd9e-49eb-8c02-428cfc0a3725')\"\n",
              "              title=\"Convert this dataframe to an interactive table.\"\n",
              "              style=\"display:none;\">\n",
              "        \n",
              "  <svg xmlns=\"http://www.w3.org/2000/svg\" height=\"24px\"viewBox=\"0 0 24 24\"\n",
              "       width=\"24px\">\n",
              "    <path d=\"M0 0h24v24H0V0z\" fill=\"none\"/>\n",
              "    <path d=\"M18.56 5.44l.94 2.06.94-2.06 2.06-.94-2.06-.94-.94-2.06-.94 2.06-2.06.94zm-11 1L8.5 8.5l.94-2.06 2.06-.94-2.06-.94L8.5 2.5l-.94 2.06-2.06.94zm10 10l.94 2.06.94-2.06 2.06-.94-2.06-.94-.94-2.06-.94 2.06-2.06.94z\"/><path d=\"M17.41 7.96l-1.37-1.37c-.4-.4-.92-.59-1.43-.59-.52 0-1.04.2-1.43.59L10.3 9.45l-7.72 7.72c-.78.78-.78 2.05 0 2.83L4 21.41c.39.39.9.59 1.41.59.51 0 1.02-.2 1.41-.59l7.78-7.78 2.81-2.81c.8-.78.8-2.07 0-2.86zM5.41 20L4 18.59l7.72-7.72 1.47 1.35L5.41 20z\"/>\n",
              "  </svg>\n",
              "      </button>\n",
              "      \n",
              "  <style>\n",
              "    .colab-df-container {\n",
              "      display:flex;\n",
              "      flex-wrap:wrap;\n",
              "      gap: 12px;\n",
              "    }\n",
              "\n",
              "    .colab-df-convert {\n",
              "      background-color: #E8F0FE;\n",
              "      border: none;\n",
              "      border-radius: 50%;\n",
              "      cursor: pointer;\n",
              "      display: none;\n",
              "      fill: #1967D2;\n",
              "      height: 32px;\n",
              "      padding: 0 0 0 0;\n",
              "      width: 32px;\n",
              "    }\n",
              "\n",
              "    .colab-df-convert:hover {\n",
              "      background-color: #E2EBFA;\n",
              "      box-shadow: 0px 1px 2px rgba(60, 64, 67, 0.3), 0px 1px 3px 1px rgba(60, 64, 67, 0.15);\n",
              "      fill: #174EA6;\n",
              "    }\n",
              "\n",
              "    [theme=dark] .colab-df-convert {\n",
              "      background-color: #3B4455;\n",
              "      fill: #D2E3FC;\n",
              "    }\n",
              "\n",
              "    [theme=dark] .colab-df-convert:hover {\n",
              "      background-color: #434B5C;\n",
              "      box-shadow: 0px 1px 3px 1px rgba(0, 0, 0, 0.15);\n",
              "      filter: drop-shadow(0px 1px 2px rgba(0, 0, 0, 0.3));\n",
              "      fill: #FFFFFF;\n",
              "    }\n",
              "  </style>\n",
              "\n",
              "      <script>\n",
              "        const buttonEl =\n",
              "          document.querySelector('#df-9879f75e-fd9e-49eb-8c02-428cfc0a3725 button.colab-df-convert');\n",
              "        buttonEl.style.display =\n",
              "          google.colab.kernel.accessAllowed ? 'block' : 'none';\n",
              "\n",
              "        async function convertToInteractive(key) {\n",
              "          const element = document.querySelector('#df-9879f75e-fd9e-49eb-8c02-428cfc0a3725');\n",
              "          const dataTable =\n",
              "            await google.colab.kernel.invokeFunction('convertToInteractive',\n",
              "                                                     [key], {});\n",
              "          if (!dataTable) return;\n",
              "\n",
              "          const docLinkHtml = 'Like what you see? Visit the ' +\n",
              "            '<a target=\"_blank\" href=https://colab.research.google.com/notebooks/data_table.ipynb>data table notebook</a>'\n",
              "            + ' to learn more about interactive tables.';\n",
              "          element.innerHTML = '';\n",
              "          dataTable['output_type'] = 'display_data';\n",
              "          await google.colab.output.renderOutput(dataTable, element);\n",
              "          const docLink = document.createElement('div');\n",
              "          docLink.innerHTML = docLinkHtml;\n",
              "          element.appendChild(docLink);\n",
              "        }\n",
              "      </script>\n",
              "    </div>\n",
              "  </div>\n",
              "  "
            ]
          },
          "metadata": {},
          "execution_count": 1
        }
      ],
      "source": [
        "from sklearn import datasets\n",
        "import sklearn\n",
        "import pandas as pd\n",
        "import numpy as np\n",
        "import matplotlib.pyplot as plt\n",
        "import seaborn as sns\n",
        "\n",
        "from google.colab import files\n",
        "file = files.upload()\n",
        "\n",
        "df = pd.read_csv(\"Airbnb.csv\")\n",
        "df.head()"
      ]
    },
    {
      "cell_type": "markdown",
      "metadata": {
        "id": "wHo0yWO0zbBs"
      },
      "source": [
        "Preprocessing the dataset:"
      ]
    },
    {
      "cell_type": "code",
      "execution_count": 2,
      "metadata": {
        "id": "_xIsWwGd3TFU",
        "colab": {
          "base_uri": "https://localhost:8080/"
        },
        "outputId": "60b9ee98-494d-40b5-941d-ecd7db952363"
      },
      "outputs": [
        {
          "output_type": "execute_result",
          "data": {
            "text/plain": [
              "48895"
            ]
          },
          "metadata": {},
          "execution_count": 2
        }
      ],
      "source": [
        "df_dup = df\n",
        "len(df_dup)"
      ]
    },
    {
      "cell_type": "code",
      "execution_count": 3,
      "metadata": {
        "colab": {
          "base_uri": "https://localhost:8080/"
        },
        "id": "9l0WfW380u2-",
        "outputId": "1afd6609-4ea4-4170-9cbb-1a582f4fcc37"
      },
      "outputs": [
        {
          "output_type": "execute_result",
          "data": {
            "text/plain": [
              "1.3732214298586884"
            ]
          },
          "metadata": {},
          "execution_count": 3
        }
      ],
      "source": [
        "#Replace the missing values in col reviews_per_month to \"mean\"\n",
        "x = np.mean(df_dup.reviews_per_month)\n",
        "df_dup.reviews_per_month = df_dup.reviews_per_month.fillna(x)\n",
        "x"
      ]
    },
    {
      "cell_type": "code",
      "execution_count": 4,
      "metadata": {
        "colab": {
          "base_uri": "https://localhost:8080/",
          "height": 461
        },
        "id": "7JA_lrCPULQv",
        "outputId": "03d7aec6-3bb5-4461-c088-60e5c879733a"
      },
      "outputs": [
        {
          "output_type": "execute_result",
          "data": {
            "text/plain": [
              "     id                                              name  host_id  \\\n",
              "0  2539                Clean & quiet apt home by the park     2787   \n",
              "1  2595                             Skylit Midtown Castle     2845   \n",
              "2  3647               THE VILLAGE OF HARLEM....NEW YORK !     4632   \n",
              "3  3831                   Cozy Entire Floor of Brownstone     4869   \n",
              "4  5022  Entire Apt: Spacious Studio/Loft by central park     7192   \n",
              "\n",
              "     host_name neighbourhood_group neighbourhood  latitude  longitude  \\\n",
              "0         John            Brooklyn    Kensington  40.64749  -73.97237   \n",
              "1     Jennifer           Manhattan       Midtown  40.75362  -73.98377   \n",
              "2    Elisabeth           Manhattan        Harlem  40.80902  -73.94190   \n",
              "3  LisaRoxanne            Brooklyn  Clinton Hill  40.68514  -73.95976   \n",
              "4        Laura           Manhattan   East Harlem  40.79851  -73.94399   \n",
              "\n",
              "         room_type  price  minimum_nights  number_of_reviews last_review  \\\n",
              "0     Private room    149               1                  9    10/19/18   \n",
              "1  Entire home/apt    225               1                 45     5/21/19   \n",
              "2     Private room    150               3                  0         NaN   \n",
              "3  Entire home/apt     89               1                270      7/5/19   \n",
              "4  Entire home/apt     80              10                  9    11/19/18   \n",
              "\n",
              "   reviews_per_month  calculated_host_listings_count  availability_365  \n",
              "0           0.210000                               6               365  \n",
              "1           0.380000                               2               355  \n",
              "2           1.373221                               1               365  \n",
              "3           4.640000                               1               194  \n",
              "4           0.100000                               1                 0  "
            ],
            "text/html": [
              "\n",
              "  <div id=\"df-a8d7fb3a-5092-41c1-a1ad-1a329553e51d\">\n",
              "    <div class=\"colab-df-container\">\n",
              "      <div>\n",
              "<style scoped>\n",
              "    .dataframe tbody tr th:only-of-type {\n",
              "        vertical-align: middle;\n",
              "    }\n",
              "\n",
              "    .dataframe tbody tr th {\n",
              "        vertical-align: top;\n",
              "    }\n",
              "\n",
              "    .dataframe thead th {\n",
              "        text-align: right;\n",
              "    }\n",
              "</style>\n",
              "<table border=\"1\" class=\"dataframe\">\n",
              "  <thead>\n",
              "    <tr style=\"text-align: right;\">\n",
              "      <th></th>\n",
              "      <th>id</th>\n",
              "      <th>name</th>\n",
              "      <th>host_id</th>\n",
              "      <th>host_name</th>\n",
              "      <th>neighbourhood_group</th>\n",
              "      <th>neighbourhood</th>\n",
              "      <th>latitude</th>\n",
              "      <th>longitude</th>\n",
              "      <th>room_type</th>\n",
              "      <th>price</th>\n",
              "      <th>minimum_nights</th>\n",
              "      <th>number_of_reviews</th>\n",
              "      <th>last_review</th>\n",
              "      <th>reviews_per_month</th>\n",
              "      <th>calculated_host_listings_count</th>\n",
              "      <th>availability_365</th>\n",
              "    </tr>\n",
              "  </thead>\n",
              "  <tbody>\n",
              "    <tr>\n",
              "      <th>0</th>\n",
              "      <td>2539</td>\n",
              "      <td>Clean &amp; quiet apt home by the park</td>\n",
              "      <td>2787</td>\n",
              "      <td>John</td>\n",
              "      <td>Brooklyn</td>\n",
              "      <td>Kensington</td>\n",
              "      <td>40.64749</td>\n",
              "      <td>-73.97237</td>\n",
              "      <td>Private room</td>\n",
              "      <td>149</td>\n",
              "      <td>1</td>\n",
              "      <td>9</td>\n",
              "      <td>10/19/18</td>\n",
              "      <td>0.210000</td>\n",
              "      <td>6</td>\n",
              "      <td>365</td>\n",
              "    </tr>\n",
              "    <tr>\n",
              "      <th>1</th>\n",
              "      <td>2595</td>\n",
              "      <td>Skylit Midtown Castle</td>\n",
              "      <td>2845</td>\n",
              "      <td>Jennifer</td>\n",
              "      <td>Manhattan</td>\n",
              "      <td>Midtown</td>\n",
              "      <td>40.75362</td>\n",
              "      <td>-73.98377</td>\n",
              "      <td>Entire home/apt</td>\n",
              "      <td>225</td>\n",
              "      <td>1</td>\n",
              "      <td>45</td>\n",
              "      <td>5/21/19</td>\n",
              "      <td>0.380000</td>\n",
              "      <td>2</td>\n",
              "      <td>355</td>\n",
              "    </tr>\n",
              "    <tr>\n",
              "      <th>2</th>\n",
              "      <td>3647</td>\n",
              "      <td>THE VILLAGE OF HARLEM....NEW YORK !</td>\n",
              "      <td>4632</td>\n",
              "      <td>Elisabeth</td>\n",
              "      <td>Manhattan</td>\n",
              "      <td>Harlem</td>\n",
              "      <td>40.80902</td>\n",
              "      <td>-73.94190</td>\n",
              "      <td>Private room</td>\n",
              "      <td>150</td>\n",
              "      <td>3</td>\n",
              "      <td>0</td>\n",
              "      <td>NaN</td>\n",
              "      <td>1.373221</td>\n",
              "      <td>1</td>\n",
              "      <td>365</td>\n",
              "    </tr>\n",
              "    <tr>\n",
              "      <th>3</th>\n",
              "      <td>3831</td>\n",
              "      <td>Cozy Entire Floor of Brownstone</td>\n",
              "      <td>4869</td>\n",
              "      <td>LisaRoxanne</td>\n",
              "      <td>Brooklyn</td>\n",
              "      <td>Clinton Hill</td>\n",
              "      <td>40.68514</td>\n",
              "      <td>-73.95976</td>\n",
              "      <td>Entire home/apt</td>\n",
              "      <td>89</td>\n",
              "      <td>1</td>\n",
              "      <td>270</td>\n",
              "      <td>7/5/19</td>\n",
              "      <td>4.640000</td>\n",
              "      <td>1</td>\n",
              "      <td>194</td>\n",
              "    </tr>\n",
              "    <tr>\n",
              "      <th>4</th>\n",
              "      <td>5022</td>\n",
              "      <td>Entire Apt: Spacious Studio/Loft by central park</td>\n",
              "      <td>7192</td>\n",
              "      <td>Laura</td>\n",
              "      <td>Manhattan</td>\n",
              "      <td>East Harlem</td>\n",
              "      <td>40.79851</td>\n",
              "      <td>-73.94399</td>\n",
              "      <td>Entire home/apt</td>\n",
              "      <td>80</td>\n",
              "      <td>10</td>\n",
              "      <td>9</td>\n",
              "      <td>11/19/18</td>\n",
              "      <td>0.100000</td>\n",
              "      <td>1</td>\n",
              "      <td>0</td>\n",
              "    </tr>\n",
              "  </tbody>\n",
              "</table>\n",
              "</div>\n",
              "      <button class=\"colab-df-convert\" onclick=\"convertToInteractive('df-a8d7fb3a-5092-41c1-a1ad-1a329553e51d')\"\n",
              "              title=\"Convert this dataframe to an interactive table.\"\n",
              "              style=\"display:none;\">\n",
              "        \n",
              "  <svg xmlns=\"http://www.w3.org/2000/svg\" height=\"24px\"viewBox=\"0 0 24 24\"\n",
              "       width=\"24px\">\n",
              "    <path d=\"M0 0h24v24H0V0z\" fill=\"none\"/>\n",
              "    <path d=\"M18.56 5.44l.94 2.06.94-2.06 2.06-.94-2.06-.94-.94-2.06-.94 2.06-2.06.94zm-11 1L8.5 8.5l.94-2.06 2.06-.94-2.06-.94L8.5 2.5l-.94 2.06-2.06.94zm10 10l.94 2.06.94-2.06 2.06-.94-2.06-.94-.94-2.06-.94 2.06-2.06.94z\"/><path d=\"M17.41 7.96l-1.37-1.37c-.4-.4-.92-.59-1.43-.59-.52 0-1.04.2-1.43.59L10.3 9.45l-7.72 7.72c-.78.78-.78 2.05 0 2.83L4 21.41c.39.39.9.59 1.41.59.51 0 1.02-.2 1.41-.59l7.78-7.78 2.81-2.81c.8-.78.8-2.07 0-2.86zM5.41 20L4 18.59l7.72-7.72 1.47 1.35L5.41 20z\"/>\n",
              "  </svg>\n",
              "      </button>\n",
              "      \n",
              "  <style>\n",
              "    .colab-df-container {\n",
              "      display:flex;\n",
              "      flex-wrap:wrap;\n",
              "      gap: 12px;\n",
              "    }\n",
              "\n",
              "    .colab-df-convert {\n",
              "      background-color: #E8F0FE;\n",
              "      border: none;\n",
              "      border-radius: 50%;\n",
              "      cursor: pointer;\n",
              "      display: none;\n",
              "      fill: #1967D2;\n",
              "      height: 32px;\n",
              "      padding: 0 0 0 0;\n",
              "      width: 32px;\n",
              "    }\n",
              "\n",
              "    .colab-df-convert:hover {\n",
              "      background-color: #E2EBFA;\n",
              "      box-shadow: 0px 1px 2px rgba(60, 64, 67, 0.3), 0px 1px 3px 1px rgba(60, 64, 67, 0.15);\n",
              "      fill: #174EA6;\n",
              "    }\n",
              "\n",
              "    [theme=dark] .colab-df-convert {\n",
              "      background-color: #3B4455;\n",
              "      fill: #D2E3FC;\n",
              "    }\n",
              "\n",
              "    [theme=dark] .colab-df-convert:hover {\n",
              "      background-color: #434B5C;\n",
              "      box-shadow: 0px 1px 3px 1px rgba(0, 0, 0, 0.15);\n",
              "      filter: drop-shadow(0px 1px 2px rgba(0, 0, 0, 0.3));\n",
              "      fill: #FFFFFF;\n",
              "    }\n",
              "  </style>\n",
              "\n",
              "      <script>\n",
              "        const buttonEl =\n",
              "          document.querySelector('#df-a8d7fb3a-5092-41c1-a1ad-1a329553e51d button.colab-df-convert');\n",
              "        buttonEl.style.display =\n",
              "          google.colab.kernel.accessAllowed ? 'block' : 'none';\n",
              "\n",
              "        async function convertToInteractive(key) {\n",
              "          const element = document.querySelector('#df-a8d7fb3a-5092-41c1-a1ad-1a329553e51d');\n",
              "          const dataTable =\n",
              "            await google.colab.kernel.invokeFunction('convertToInteractive',\n",
              "                                                     [key], {});\n",
              "          if (!dataTable) return;\n",
              "\n",
              "          const docLinkHtml = 'Like what you see? Visit the ' +\n",
              "            '<a target=\"_blank\" href=https://colab.research.google.com/notebooks/data_table.ipynb>data table notebook</a>'\n",
              "            + ' to learn more about interactive tables.';\n",
              "          element.innerHTML = '';\n",
              "          dataTable['output_type'] = 'display_data';\n",
              "          await google.colab.output.renderOutput(dataTable, element);\n",
              "          const docLink = document.createElement('div');\n",
              "          docLink.innerHTML = docLinkHtml;\n",
              "          element.appendChild(docLink);\n",
              "        }\n",
              "      </script>\n",
              "    </div>\n",
              "  </div>\n",
              "  "
            ]
          },
          "metadata": {},
          "execution_count": 4
        }
      ],
      "source": [
        "df_dup.head()"
      ]
    },
    {
      "cell_type": "code",
      "execution_count": 5,
      "metadata": {
        "colab": {
          "base_uri": "https://localhost:8080/"
        },
        "id": "poj-94PhVvRf",
        "outputId": "c1b30871-1759-49e6-d384-629a5023ee50"
      },
      "outputs": [
        {
          "output_type": "execute_result",
          "data": {
            "text/plain": [
              "10052"
            ]
          },
          "metadata": {},
          "execution_count": 5
        }
      ],
      "source": [
        "df_dup['last_review'].isna().sum()\n"
      ]
    },
    {
      "cell_type": "code",
      "execution_count": 6,
      "metadata": {
        "id": "uUCYAOrr1BQk"
      },
      "outputs": [],
      "source": [
        "#Replace the missing values in col last_review to \"never\" since the col has string values \n",
        "\n",
        "df_dup.last_review = df_dup.last_review.fillna(\"never\")"
      ]
    },
    {
      "cell_type": "code",
      "execution_count": 7,
      "metadata": {
        "id": "-Ky0ZsFw1Qj2"
      },
      "outputs": [],
      "source": [
        "#Convert categorical values of col neighbourhood_group to numerical by creating dummy variables\n",
        "\n",
        "df_dup = pd.get_dummies(df_dup, columns=['neighbourhood_group'])"
      ]
    },
    {
      "cell_type": "code",
      "execution_count": 8,
      "metadata": {
        "id": "ky7oQ1-_2bA7"
      },
      "outputs": [],
      "source": [
        "#Convert categorical values of col room_type to numerical by creating dummy variables\n",
        "\n",
        "df_dup = pd.get_dummies(df_dup, columns=['room_type'])"
      ]
    },
    {
      "cell_type": "code",
      "source": [
        "len(df_dup)"
      ],
      "metadata": {
        "colab": {
          "base_uri": "https://localhost:8080/"
        },
        "id": "8WhFUHq5kSGx",
        "outputId": "23c68c8b-f84f-4325-d352-9199fae3e119"
      },
      "execution_count": 9,
      "outputs": [
        {
          "output_type": "execute_result",
          "data": {
            "text/plain": [
              "48895"
            ]
          },
          "metadata": {},
          "execution_count": 9
        }
      ]
    },
    {
      "cell_type": "code",
      "execution_count": 10,
      "metadata": {
        "colab": {
          "base_uri": "https://localhost:8080/",
          "height": 288
        },
        "id": "HmEOWHIa2DXG",
        "outputId": "a1c2d28a-8feb-43fb-8fcd-f7d62bb7cd24"
      },
      "outputs": [
        {
          "output_type": "execute_result",
          "data": {
            "text/plain": [
              "   latitude  longitude  price  minimum_nights  number_of_reviews  \\\n",
              "0  40.64749  -73.97237    149               1                  9   \n",
              "1  40.75362  -73.98377    225               1                 45   \n",
              "2  40.80902  -73.94190    150               3                  0   \n",
              "3  40.68514  -73.95976     89               1                270   \n",
              "4  40.79851  -73.94399     80              10                  9   \n",
              "\n",
              "   reviews_per_month  calculated_host_listings_count  availability_365  \\\n",
              "0           0.210000                               6               365   \n",
              "1           0.380000                               2               355   \n",
              "2           1.373221                               1               365   \n",
              "3           4.640000                               1               194   \n",
              "4           0.100000                               1                 0   \n",
              "\n",
              "   neighbourhood_group_Bronx  neighbourhood_group_Brooklyn  \\\n",
              "0                          0                             1   \n",
              "1                          0                             0   \n",
              "2                          0                             0   \n",
              "3                          0                             1   \n",
              "4                          0                             0   \n",
              "\n",
              "   neighbourhood_group_Manhattan  neighbourhood_group_Queens  \\\n",
              "0                              0                           0   \n",
              "1                              1                           0   \n",
              "2                              1                           0   \n",
              "3                              0                           0   \n",
              "4                              1                           0   \n",
              "\n",
              "   neighbourhood_group_Staten Island  room_type_Entire home/apt  \\\n",
              "0                                  0                          0   \n",
              "1                                  0                          1   \n",
              "2                                  0                          0   \n",
              "3                                  0                          1   \n",
              "4                                  0                          1   \n",
              "\n",
              "   room_type_Private room  room_type_Shared room  \n",
              "0                       1                      0  \n",
              "1                       0                      0  \n",
              "2                       1                      0  \n",
              "3                       0                      0  \n",
              "4                       0                      0  "
            ],
            "text/html": [
              "\n",
              "  <div id=\"df-abb4cc06-2054-4f96-9784-f76a5ad9960f\">\n",
              "    <div class=\"colab-df-container\">\n",
              "      <div>\n",
              "<style scoped>\n",
              "    .dataframe tbody tr th:only-of-type {\n",
              "        vertical-align: middle;\n",
              "    }\n",
              "\n",
              "    .dataframe tbody tr th {\n",
              "        vertical-align: top;\n",
              "    }\n",
              "\n",
              "    .dataframe thead th {\n",
              "        text-align: right;\n",
              "    }\n",
              "</style>\n",
              "<table border=\"1\" class=\"dataframe\">\n",
              "  <thead>\n",
              "    <tr style=\"text-align: right;\">\n",
              "      <th></th>\n",
              "      <th>latitude</th>\n",
              "      <th>longitude</th>\n",
              "      <th>price</th>\n",
              "      <th>minimum_nights</th>\n",
              "      <th>number_of_reviews</th>\n",
              "      <th>reviews_per_month</th>\n",
              "      <th>calculated_host_listings_count</th>\n",
              "      <th>availability_365</th>\n",
              "      <th>neighbourhood_group_Bronx</th>\n",
              "      <th>neighbourhood_group_Brooklyn</th>\n",
              "      <th>neighbourhood_group_Manhattan</th>\n",
              "      <th>neighbourhood_group_Queens</th>\n",
              "      <th>neighbourhood_group_Staten Island</th>\n",
              "      <th>room_type_Entire home/apt</th>\n",
              "      <th>room_type_Private room</th>\n",
              "      <th>room_type_Shared room</th>\n",
              "    </tr>\n",
              "  </thead>\n",
              "  <tbody>\n",
              "    <tr>\n",
              "      <th>0</th>\n",
              "      <td>40.64749</td>\n",
              "      <td>-73.97237</td>\n",
              "      <td>149</td>\n",
              "      <td>1</td>\n",
              "      <td>9</td>\n",
              "      <td>0.210000</td>\n",
              "      <td>6</td>\n",
              "      <td>365</td>\n",
              "      <td>0</td>\n",
              "      <td>1</td>\n",
              "      <td>0</td>\n",
              "      <td>0</td>\n",
              "      <td>0</td>\n",
              "      <td>0</td>\n",
              "      <td>1</td>\n",
              "      <td>0</td>\n",
              "    </tr>\n",
              "    <tr>\n",
              "      <th>1</th>\n",
              "      <td>40.75362</td>\n",
              "      <td>-73.98377</td>\n",
              "      <td>225</td>\n",
              "      <td>1</td>\n",
              "      <td>45</td>\n",
              "      <td>0.380000</td>\n",
              "      <td>2</td>\n",
              "      <td>355</td>\n",
              "      <td>0</td>\n",
              "      <td>0</td>\n",
              "      <td>1</td>\n",
              "      <td>0</td>\n",
              "      <td>0</td>\n",
              "      <td>1</td>\n",
              "      <td>0</td>\n",
              "      <td>0</td>\n",
              "    </tr>\n",
              "    <tr>\n",
              "      <th>2</th>\n",
              "      <td>40.80902</td>\n",
              "      <td>-73.94190</td>\n",
              "      <td>150</td>\n",
              "      <td>3</td>\n",
              "      <td>0</td>\n",
              "      <td>1.373221</td>\n",
              "      <td>1</td>\n",
              "      <td>365</td>\n",
              "      <td>0</td>\n",
              "      <td>0</td>\n",
              "      <td>1</td>\n",
              "      <td>0</td>\n",
              "      <td>0</td>\n",
              "      <td>0</td>\n",
              "      <td>1</td>\n",
              "      <td>0</td>\n",
              "    </tr>\n",
              "    <tr>\n",
              "      <th>3</th>\n",
              "      <td>40.68514</td>\n",
              "      <td>-73.95976</td>\n",
              "      <td>89</td>\n",
              "      <td>1</td>\n",
              "      <td>270</td>\n",
              "      <td>4.640000</td>\n",
              "      <td>1</td>\n",
              "      <td>194</td>\n",
              "      <td>0</td>\n",
              "      <td>1</td>\n",
              "      <td>0</td>\n",
              "      <td>0</td>\n",
              "      <td>0</td>\n",
              "      <td>1</td>\n",
              "      <td>0</td>\n",
              "      <td>0</td>\n",
              "    </tr>\n",
              "    <tr>\n",
              "      <th>4</th>\n",
              "      <td>40.79851</td>\n",
              "      <td>-73.94399</td>\n",
              "      <td>80</td>\n",
              "      <td>10</td>\n",
              "      <td>9</td>\n",
              "      <td>0.100000</td>\n",
              "      <td>1</td>\n",
              "      <td>0</td>\n",
              "      <td>0</td>\n",
              "      <td>0</td>\n",
              "      <td>1</td>\n",
              "      <td>0</td>\n",
              "      <td>0</td>\n",
              "      <td>1</td>\n",
              "      <td>0</td>\n",
              "      <td>0</td>\n",
              "    </tr>\n",
              "  </tbody>\n",
              "</table>\n",
              "</div>\n",
              "      <button class=\"colab-df-convert\" onclick=\"convertToInteractive('df-abb4cc06-2054-4f96-9784-f76a5ad9960f')\"\n",
              "              title=\"Convert this dataframe to an interactive table.\"\n",
              "              style=\"display:none;\">\n",
              "        \n",
              "  <svg xmlns=\"http://www.w3.org/2000/svg\" height=\"24px\"viewBox=\"0 0 24 24\"\n",
              "       width=\"24px\">\n",
              "    <path d=\"M0 0h24v24H0V0z\" fill=\"none\"/>\n",
              "    <path d=\"M18.56 5.44l.94 2.06.94-2.06 2.06-.94-2.06-.94-.94-2.06-.94 2.06-2.06.94zm-11 1L8.5 8.5l.94-2.06 2.06-.94-2.06-.94L8.5 2.5l-.94 2.06-2.06.94zm10 10l.94 2.06.94-2.06 2.06-.94-2.06-.94-.94-2.06-.94 2.06-2.06.94z\"/><path d=\"M17.41 7.96l-1.37-1.37c-.4-.4-.92-.59-1.43-.59-.52 0-1.04.2-1.43.59L10.3 9.45l-7.72 7.72c-.78.78-.78 2.05 0 2.83L4 21.41c.39.39.9.59 1.41.59.51 0 1.02-.2 1.41-.59l7.78-7.78 2.81-2.81c.8-.78.8-2.07 0-2.86zM5.41 20L4 18.59l7.72-7.72 1.47 1.35L5.41 20z\"/>\n",
              "  </svg>\n",
              "      </button>\n",
              "      \n",
              "  <style>\n",
              "    .colab-df-container {\n",
              "      display:flex;\n",
              "      flex-wrap:wrap;\n",
              "      gap: 12px;\n",
              "    }\n",
              "\n",
              "    .colab-df-convert {\n",
              "      background-color: #E8F0FE;\n",
              "      border: none;\n",
              "      border-radius: 50%;\n",
              "      cursor: pointer;\n",
              "      display: none;\n",
              "      fill: #1967D2;\n",
              "      height: 32px;\n",
              "      padding: 0 0 0 0;\n",
              "      width: 32px;\n",
              "    }\n",
              "\n",
              "    .colab-df-convert:hover {\n",
              "      background-color: #E2EBFA;\n",
              "      box-shadow: 0px 1px 2px rgba(60, 64, 67, 0.3), 0px 1px 3px 1px rgba(60, 64, 67, 0.15);\n",
              "      fill: #174EA6;\n",
              "    }\n",
              "\n",
              "    [theme=dark] .colab-df-convert {\n",
              "      background-color: #3B4455;\n",
              "      fill: #D2E3FC;\n",
              "    }\n",
              "\n",
              "    [theme=dark] .colab-df-convert:hover {\n",
              "      background-color: #434B5C;\n",
              "      box-shadow: 0px 1px 3px 1px rgba(0, 0, 0, 0.15);\n",
              "      filter: drop-shadow(0px 1px 2px rgba(0, 0, 0, 0.3));\n",
              "      fill: #FFFFFF;\n",
              "    }\n",
              "  </style>\n",
              "\n",
              "      <script>\n",
              "        const buttonEl =\n",
              "          document.querySelector('#df-abb4cc06-2054-4f96-9784-f76a5ad9960f button.colab-df-convert');\n",
              "        buttonEl.style.display =\n",
              "          google.colab.kernel.accessAllowed ? 'block' : 'none';\n",
              "\n",
              "        async function convertToInteractive(key) {\n",
              "          const element = document.querySelector('#df-abb4cc06-2054-4f96-9784-f76a5ad9960f');\n",
              "          const dataTable =\n",
              "            await google.colab.kernel.invokeFunction('convertToInteractive',\n",
              "                                                     [key], {});\n",
              "          if (!dataTable) return;\n",
              "\n",
              "          const docLinkHtml = 'Like what you see? Visit the ' +\n",
              "            '<a target=\"_blank\" href=https://colab.research.google.com/notebooks/data_table.ipynb>data table notebook</a>'\n",
              "            + ' to learn more about interactive tables.';\n",
              "          element.innerHTML = '';\n",
              "          dataTable['output_type'] = 'display_data';\n",
              "          await google.colab.output.renderOutput(dataTable, element);\n",
              "          const docLink = document.createElement('div');\n",
              "          docLink.innerHTML = docLinkHtml;\n",
              "          element.appendChild(docLink);\n",
              "        }\n",
              "      </script>\n",
              "    </div>\n",
              "  </div>\n",
              "  "
            ]
          },
          "metadata": {},
          "execution_count": 10
        }
      ],
      "source": [
        "#Droping col id, host_id, name, host_name and neighbourhood since it is not required for predicting price \n",
        "\n",
        "#Droping col last_review since its a string so not useful for prediction \n",
        "\n",
        "data = df_dup.drop([\"name\",\"host_name\",\"last_review\",\"id\",\"host_id\",\"neighbourhood\"],axis=1)\n",
        "\n",
        "data.head()"
      ]
    },
    {
      "cell_type": "code",
      "execution_count": 11,
      "metadata": {
        "colab": {
          "base_uri": "https://localhost:8080/"
        },
        "id": "mY-yZrBeo9qB",
        "outputId": "481cbbc4-cec5-449b-ef91-7f46c6071f10"
      },
      "outputs": [
        {
          "output_type": "execute_result",
          "data": {
            "text/plain": [
              "latitude                             0\n",
              "longitude                            0\n",
              "price                                0\n",
              "minimum_nights                       0\n",
              "number_of_reviews                    0\n",
              "reviews_per_month                    0\n",
              "calculated_host_listings_count       0\n",
              "availability_365                     0\n",
              "neighbourhood_group_Bronx            0\n",
              "neighbourhood_group_Brooklyn         0\n",
              "neighbourhood_group_Manhattan        0\n",
              "neighbourhood_group_Queens           0\n",
              "neighbourhood_group_Staten Island    0\n",
              "room_type_Entire home/apt            0\n",
              "room_type_Private room               0\n",
              "room_type_Shared room                0\n",
              "dtype: int64"
            ]
          },
          "metadata": {},
          "execution_count": 11
        }
      ],
      "source": [
        "#Verify that we don't have any missing values \n",
        "\n",
        "data.isnull().sum()"
      ]
    },
    {
      "cell_type": "code",
      "execution_count": 12,
      "metadata": {
        "colab": {
          "base_uri": "https://localhost:8080/",
          "height": 837
        },
        "id": "gZOGvqmNwoxP",
        "outputId": "f485a892-a3ab-4942-efc5-15565e94d8e0"
      },
      "outputs": [
        {
          "output_type": "execute_result",
          "data": {
            "text/plain": [
              "<matplotlib.axes._subplots.AxesSubplot at 0x7f3af0e199d0>"
            ]
          },
          "metadata": {},
          "execution_count": 12
        },
        {
          "output_type": "display_data",
          "data": {
            "text/plain": [
              "<Figure size 1224x792 with 2 Axes>"
            ],
            "image/png": "[encoded data removed]"
          },
          "metadata": {
            "needs_background": "light"
          }
        }
      ],
      "source": [
        "#To check if any other variables are highly correlated \n",
        "\n",
        "plt.figure(figsize=(17,11))\n",
        "matrix = data.corr()\n",
        "sns.heatmap(matrix,square=True, annot=True,vmin=0, vmax=1)"
      ]
    },
    {
      "cell_type": "markdown",
      "metadata": {
        "id": "vUnluhbZK5sM"
      },
      "source": [
        "Convert target variable into classification:\n",
        "\n"
      ]
    },
    {
      "cell_type": "code",
      "execution_count": 13,
      "metadata": {
        "colab": {
          "base_uri": "https://localhost:8080/"
        },
        "id": "aoM7YcZR3km1",
        "outputId": "174a4159-da61-4cb0-f1e9-b13613af82f5"
      },
      "outputs": [
        {
          "output_type": "execute_result",
          "data": {
            "text/plain": [
              "Medium    24347\n",
              "Low       12360\n",
              "High      12177\n",
              "Name: price, dtype: int64"
            ]
          },
          "metadata": {},
          "execution_count": 13
        }
      ],
      "source": [
        "#Converting the Price col values into high, medium and low categories to classify \n",
        "\n",
        "data['price'] = pd.cut(data['price'], bins = [data['price'].min(),\n",
        "                                              data['price'].quantile(0.25),\n",
        "                                              data['price'].quantile(0.75),\n",
        "                                              data['price'].max()],\n",
        "                                              labels = [\"Low\", \"Medium\", \"High\"])\n",
        "data['price'].value_counts()"
      ]
    },
    {
      "cell_type": "code",
      "execution_count": 14,
      "metadata": {
        "colab": {
          "base_uri": "https://localhost:8080/"
        },
        "id": "S-87G2Px4Xs9",
        "outputId": "3d82af57-969f-4411-c377-b91bf7b9d070"
      },
      "outputs": [
        {
          "output_type": "execute_result",
          "data": {
            "text/plain": [
              "11"
            ]
          },
          "metadata": {},
          "execution_count": 14
        }
      ],
      "source": [
        "#To check for null values on price col\n",
        "\n",
        "data[data.price.isnull()]\n",
        "x = data.price.isna().sum()\n",
        "x"
      ]
    },
    {
      "cell_type": "code",
      "execution_count": 15,
      "metadata": {
        "id": "Pf5E75cG4fKC"
      },
      "outputs": [],
      "source": [
        "#Drop the NaN values for classification\n",
        "\n",
        "data = data.dropna()\n",
        "df1 = data"
      ]
    },
    {
      "cell_type": "markdown",
      "metadata": {
        "id": "b1ci4J-oKlKX"
      },
      "source": [
        "Without scaling"
      ]
    },
    {
      "cell_type": "code",
      "execution_count": 16,
      "metadata": {
        "colab": {
          "base_uri": "https://localhost:8080/",
          "height": 288
        },
        "id": "Q7VFPtn-BSpB",
        "outputId": "224df5e2-b8cb-49f8-ad35-71a78cce9cd9"
      },
      "outputs": [
        {
          "output_type": "execute_result",
          "data": {
            "text/plain": [
              "   latitude  longitude  minimum_nights  number_of_reviews  reviews_per_month  \\\n",
              "0  40.64749  -73.97237               1                  9           0.210000   \n",
              "1  40.75362  -73.98377               1                 45           0.380000   \n",
              "2  40.80902  -73.94190               3                  0           1.373221   \n",
              "3  40.68514  -73.95976               1                270           4.640000   \n",
              "4  40.79851  -73.94399              10                  9           0.100000   \n",
              "\n",
              "   calculated_host_listings_count  availability_365  \\\n",
              "0                               6               365   \n",
              "1                               2               355   \n",
              "2                               1               365   \n",
              "3                               1               194   \n",
              "4                               1                 0   \n",
              "\n",
              "   neighbourhood_group_Bronx  neighbourhood_group_Brooklyn  \\\n",
              "0                          0                             1   \n",
              "1                          0                             0   \n",
              "2                          0                             0   \n",
              "3                          0                             1   \n",
              "4                          0                             0   \n",
              "\n",
              "   neighbourhood_group_Manhattan  neighbourhood_group_Queens  \\\n",
              "0                              0                           0   \n",
              "1                              1                           0   \n",
              "2                              1                           0   \n",
              "3                              0                           0   \n",
              "4                              1                           0   \n",
              "\n",
              "   neighbourhood_group_Staten Island  room_type_Entire home/apt  \\\n",
              "0                                  0                          0   \n",
              "1                                  0                          1   \n",
              "2                                  0                          0   \n",
              "3                                  0                          1   \n",
              "4                                  0                          1   \n",
              "\n",
              "   room_type_Private room  room_type_Shared room  \n",
              "0                       1                      0  \n",
              "1                       0                      0  \n",
              "2                       1                      0  \n",
              "3                       0                      0  \n",
              "4                       0                      0  "
            ],
            "text/html": [
              "\n",
              "  <div id=\"df-d9e9740c-0955-4d0a-b217-26e4c48459a1\">\n",
              "    <div class=\"colab-df-container\">\n",
              "      <div>\n",
              "<style scoped>\n",
              "    .dataframe tbody tr th:only-of-type {\n",
              "        vertical-align: middle;\n",
              "    }\n",
              "\n",
              "    .dataframe tbody tr th {\n",
              "        vertical-align: top;\n",
              "    }\n",
              "\n",
              "    .dataframe thead th {\n",
              "        text-align: right;\n",
              "    }\n",
              "</style>\n",
              "<table border=\"1\" class=\"dataframe\">\n",
              "  <thead>\n",
              "    <tr style=\"text-align: right;\">\n",
              "      <th></th>\n",
              "      <th>latitude</th>\n",
              "      <th>longitude</th>\n",
              "      <th>minimum_nights</th>\n",
              "      <th>number_of_reviews</th>\n",
              "      <th>reviews_per_month</th>\n",
              "      <th>calculated_host_listings_count</th>\n",
              "      <th>availability_365</th>\n",
              "      <th>neighbourhood_group_Bronx</th>\n",
              "      <th>neighbourhood_group_Brooklyn</th>\n",
              "      <th>neighbourhood_group_Manhattan</th>\n",
              "      <th>neighbourhood_group_Queens</th>\n",
              "      <th>neighbourhood_group_Staten Island</th>\n",
              "      <th>room_type_Entire home/apt</th>\n",
              "      <th>room_type_Private room</th>\n",
              "      <th>room_type_Shared room</th>\n",
              "    </tr>\n",
              "  </thead>\n",
              "  <tbody>\n",
              "    <tr>\n",
              "      <th>0</th>\n",
              "      <td>40.64749</td>\n",
              "      <td>-73.97237</td>\n",
              "      <td>1</td>\n",
              "      <td>9</td>\n",
              "      <td>0.210000</td>\n",
              "      <td>6</td>\n",
              "      <td>365</td>\n",
              "      <td>0</td>\n",
              "      <td>1</td>\n",
              "      <td>0</td>\n",
              "      <td>0</td>\n",
              "      <td>0</td>\n",
              "      <td>0</td>\n",
              "      <td>1</td>\n",
              "      <td>0</td>\n",
              "    </tr>\n",
              "    <tr>\n",
              "      <th>1</th>\n",
              "      <td>40.75362</td>\n",
              "      <td>-73.98377</td>\n",
              "      <td>1</td>\n",
              "      <td>45</td>\n",
              "      <td>0.380000</td>\n",
              "      <td>2</td>\n",
              "      <td>355</td>\n",
              "      <td>0</td>\n",
              "      <td>0</td>\n",
              "      <td>1</td>\n",
              "      <td>0</td>\n",
              "      <td>0</td>\n",
              "      <td>1</td>\n",
              "      <td>0</td>\n",
              "      <td>0</td>\n",
              "    </tr>\n",
              "    <tr>\n",
              "      <th>2</th>\n",
              "      <td>40.80902</td>\n",
              "      <td>-73.94190</td>\n",
              "      <td>3</td>\n",
              "      <td>0</td>\n",
              "      <td>1.373221</td>\n",
              "      <td>1</td>\n",
              "      <td>365</td>\n",
              "      <td>0</td>\n",
              "      <td>0</td>\n",
              "      <td>1</td>\n",
              "      <td>0</td>\n",
              "      <td>0</td>\n",
              "      <td>0</td>\n",
              "      <td>1</td>\n",
              "      <td>0</td>\n",
              "    </tr>\n",
              "    <tr>\n",
              "      <th>3</th>\n",
              "      <td>40.68514</td>\n",
              "      <td>-73.95976</td>\n",
              "      <td>1</td>\n",
              "      <td>270</td>\n",
              "      <td>4.640000</td>\n",
              "      <td>1</td>\n",
              "      <td>194</td>\n",
              "      <td>0</td>\n",
              "      <td>1</td>\n",
              "      <td>0</td>\n",
              "      <td>0</td>\n",
              "      <td>0</td>\n",
              "      <td>1</td>\n",
              "      <td>0</td>\n",
              "      <td>0</td>\n",
              "    </tr>\n",
              "    <tr>\n",
              "      <th>4</th>\n",
              "      <td>40.79851</td>\n",
              "      <td>-73.94399</td>\n",
              "      <td>10</td>\n",
              "      <td>9</td>\n",
              "      <td>0.100000</td>\n",
              "      <td>1</td>\n",
              "      <td>0</td>\n",
              "      <td>0</td>\n",
              "      <td>0</td>\n",
              "      <td>1</td>\n",
              "      <td>0</td>\n",
              "      <td>0</td>\n",
              "      <td>1</td>\n",
              "      <td>0</td>\n",
              "      <td>0</td>\n",
              "    </tr>\n",
              "  </tbody>\n",
              "</table>\n",
              "</div>\n",
              "      <button class=\"colab-df-convert\" onclick=\"convertToInteractive('df-d9e9740c-0955-4d0a-b217-26e4c48459a1')\"\n",
              "              title=\"Convert this dataframe to an interactive table.\"\n",
              "              style=\"display:none;\">\n",
              "        \n",
              "  <svg xmlns=\"http://www.w3.org/2000/svg\" height=\"24px\"viewBox=\"0 0 24 24\"\n",
              "       width=\"24px\">\n",
              "    <path d=\"M0 0h24v24H0V0z\" fill=\"none\"/>\n",
              "    <path d=\"M18.56 5.44l.94 2.06.94-2.06 2.06-.94-2.06-.94-.94-2.06-.94 2.06-2.06.94zm-11 1L8.5 8.5l.94-2.06 2.06-.94-2.06-.94L8.5 2.5l-.94 2.06-2.06.94zm10 10l.94 2.06.94-2.06 2.06-.94-2.06-.94-.94-2.06-.94 2.06-2.06.94z\"/><path d=\"M17.41 7.96l-1.37-1.37c-.4-.4-.92-.59-1.43-.59-.52 0-1.04.2-1.43.59L10.3 9.45l-7.72 7.72c-.78.78-.78 2.05 0 2.83L4 21.41c.39.39.9.59 1.41.59.51 0 1.02-.2 1.41-.59l7.78-7.78 2.81-2.81c.8-.78.8-2.07 0-2.86zM5.41 20L4 18.59l7.72-7.72 1.47 1.35L5.41 20z\"/>\n",
              "  </svg>\n",
              "      </button>\n",
              "      \n",
              "  <style>\n",
              "    .colab-df-container {\n",
              "      display:flex;\n",
              "      flex-wrap:wrap;\n",
              "      gap: 12px;\n",
              "    }\n",
              "\n",
              "    .colab-df-convert {\n",
              "      background-color: #E8F0FE;\n",
              "      border: none;\n",
              "      border-radius: 50%;\n",
              "      cursor: pointer;\n",
              "      display: none;\n",
              "      fill: #1967D2;\n",
              "      height: 32px;\n",
              "      padding: 0 0 0 0;\n",
              "      width: 32px;\n",
              "    }\n",
              "\n",
              "    .colab-df-convert:hover {\n",
              "      background-color: #E2EBFA;\n",
              "      box-shadow: 0px 1px 2px rgba(60, 64, 67, 0.3), 0px 1px 3px 1px rgba(60, 64, 67, 0.15);\n",
              "      fill: #174EA6;\n",
              "    }\n",
              "\n",
              "    [theme=dark] .colab-df-convert {\n",
              "      background-color: #3B4455;\n",
              "      fill: #D2E3FC;\n",
              "    }\n",
              "\n",
              "    [theme=dark] .colab-df-convert:hover {\n",
              "      background-color: #434B5C;\n",
              "      box-shadow: 0px 1px 3px 1px rgba(0, 0, 0, 0.15);\n",
              "      filter: drop-shadow(0px 1px 2px rgba(0, 0, 0, 0.3));\n",
              "      fill: #FFFFFF;\n",
              "    }\n",
              "  </style>\n",
              "\n",
              "      <script>\n",
              "        const buttonEl =\n",
              "          document.querySelector('#df-d9e9740c-0955-4d0a-b217-26e4c48459a1 button.colab-df-convert');\n",
              "        buttonEl.style.display =\n",
              "          google.colab.kernel.accessAllowed ? 'block' : 'none';\n",
              "\n",
              "        async function convertToInteractive(key) {\n",
              "          const element = document.querySelector('#df-d9e9740c-0955-4d0a-b217-26e4c48459a1');\n",
              "          const dataTable =\n",
              "            await google.colab.kernel.invokeFunction('convertToInteractive',\n",
              "                                                     [key], {});\n",
              "          if (!dataTable) return;\n",
              "\n",
              "          const docLinkHtml = 'Like what you see? Visit the ' +\n",
              "            '<a target=\"_blank\" href=https://colab.research.google.com/notebooks/data_table.ipynb>data table notebook</a>'\n",
              "            + ' to learn more about interactive tables.';\n",
              "          element.innerHTML = '';\n",
              "          dataTable['output_type'] = 'display_data';\n",
              "          await google.colab.output.renderOutput(dataTable, element);\n",
              "          const docLink = document.createElement('div');\n",
              "          docLink.innerHTML = docLinkHtml;\n",
              "          element.appendChild(docLink);\n",
              "        }\n",
              "      </script>\n",
              "    </div>\n",
              "  </div>\n",
              "  "
            ]
          },
          "metadata": {},
          "execution_count": 16
        }
      ],
      "source": [
        "#Since 'price' is the response variable \n",
        "\n",
        "y = data['price'] \n",
        "data=data.drop(['price'],axis=1)\n",
        "data.head()"
      ]
    },
    {
      "cell_type": "markdown",
      "metadata": {
        "id": "iiUqM6I9CBJp"
      },
      "source": [
        "Partitioning:"
      ]
    },
    {
      "cell_type": "code",
      "execution_count": 17,
      "metadata": {
        "colab": {
          "base_uri": "https://localhost:8080/"
        },
        "id": "56WRKm3MCFCH",
        "outputId": "2868f3f3-f319-4569-cc0f-711d83048349"
      },
      "outputs": [
        {
          "output_type": "stream",
          "name": "stdout",
          "text": [
            "(36663, 15) (12221, 15) (36663,) (12221,)\n"
          ]
        }
      ],
      "source": [
        "#Partition the data into 75% training and 25% validation set\n",
        "\n",
        "from sklearn.model_selection import train_test_split\n",
        "\n",
        "X_train, X_valid, y_train, y_valid = train_test_split(data, y, random_state=0, test_size=0.25)\n",
        "print(X_train.shape, X_valid.shape, y_train.shape, y_valid.shape)"
      ]
    },
    {
      "cell_type": "markdown",
      "metadata": {
        "id": "3M0y4ywOxpWO"
      },
      "source": [
        "Implementation of Models:\n",
        "\n",
        "1. Using KNN Model"
      ]
    },
    {
      "cell_type": "code",
      "execution_count": 18,
      "metadata": {
        "colab": {
          "base_uri": "https://localhost:8080/"
        },
        "id": "-no7BmmR3L32",
        "outputId": "a97d666f-ed1d-44ad-8dfb-af5b34b40d41"
      },
      "outputs": [
        {
          "output_type": "stream",
          "name": "stdout",
          "text": [
            "k = 5 for value: 0.4754111774813845\n",
            "k = 6 for value: 0.46575566647573846\n",
            "k = 7 for value: 0.45994599459945995\n",
            "k = 8 for value: 0.461909827346371\n",
            "k = 9 for value: 0.4552818918255462\n",
            "k = 10 for value: 0.4511087472383602\n",
            "k = 11 for value: 0.4499631781359954\n",
            "k = 12 for value: 0.44701742901562885\n",
            "k = 13 for value: 0.447426560837902\n",
            "k = 14 for value: 0.4454627280909909\n",
            "k = 15 for value: 0.44456263808199004\n",
            "k = 16 for value: 0.4469356026511742\n",
            "k = 17 for value: 0.4452990753620817\n",
            "k = 18 for value: 0.44423533262417153\n",
            "k = 19 for value: 0.4417805416905327\n"
          ]
        }
      ],
      "source": [
        "#To get the best k value \n",
        "\n",
        "import sklearn.metrics as metrics\n",
        "from sklearn import neighbors\n",
        "from sklearn.metrics import mean_squared_error \n",
        "from math import sqrt\n",
        "\n",
        "value = []\n",
        "for i in range(5,20):\n",
        " knn = neighbors.KNeighborsClassifier(n_neighbors=i).fit(X_train,y_train)\n",
        " predict = knn.predict(X_valid)\n",
        " err = np.mean(predict != y_valid)\n",
        " value.append(err)\n",
        " print('k =',i,'for value:',err)\n",
        "\n",
        "#The best value of k is 19 since it has a low error rate "
      ]
    },
    {
      "cell_type": "code",
      "execution_count": 19,
      "metadata": {
        "colab": {
          "base_uri": "https://localhost:8080/"
        },
        "id": "ZQhFN_285xBe",
        "outputId": "6c4bf072-a0e6-4fe2-f717-708571e78125"
      },
      "outputs": [
        {
          "output_type": "stream",
          "name": "stdout",
          "text": [
            "              precision    recall  f1-score   support\n",
            "\n",
            "        High       0.52      0.36      0.43      2995\n",
            "         Low       0.57      0.39      0.47      3165\n",
            "      Medium       0.56      0.74      0.64      6061\n",
            "\n",
            "    accuracy                           0.56     12221\n",
            "   macro avg       0.55      0.50      0.51     12221\n",
            "weighted avg       0.56      0.56      0.54     12221\n",
            "\n",
            "Accuracy Score for k = 19 is 0.5582194583094673\n"
          ]
        }
      ],
      "source": [
        "#Check accuracy \n",
        "\n",
        "import sklearn.metrics as metrics\n",
        "from sklearn.metrics import classification_report\n",
        "\n",
        "knn = neighbors.KNeighborsClassifier(n_neighbors = 19).fit(X_train,y_train)\n",
        "predict = knn.predict(X_valid)\n",
        "score = metrics.accuracy_score(y_valid,predict)\n",
        "print(classification_report(y_valid, predict))\n",
        "print('Accuracy Score for k = 19 is', score)\n",
        "\n",
        "#The model has an accuracy of 55% "
      ]
    },
    {
      "cell_type": "markdown",
      "metadata": {
        "id": "GeHc8Fs_CMdj"
      },
      "source": [
        "2. Using Tree Model:"
      ]
    },
    {
      "cell_type": "code",
      "execution_count": 20,
      "metadata": {
        "colab": {
          "base_uri": "https://localhost:8080/"
        },
        "id": "xlSAn2rTeOXY",
        "outputId": "21af34a4-787a-40fb-c43c-875469d2a7aa"
      },
      "outputs": [
        {
          "output_type": "stream",
          "name": "stdout",
          "text": [
            "Depth = 1 for value: 0.475083872023566\n",
            "Depth = 2 for value: 0.3836019965632927\n",
            "Depth = 3 for value: 0.3516078880615334\n",
            "Depth = 4 for value: 0.33900662793552083\n",
            "Depth = 5 for value: 0.33696096882415516\n",
            "Depth = 6 for value: 0.32378692414696014\n",
            "Depth = 7 for value: 0.31846821045740936\n",
            "Depth = 8 for value: 0.3213321332133213\n",
            "Depth = 9 for value: 0.3167498568038622\n",
            "Depth = 10 for value: 0.3152769822436789\n",
            "Depth = 11 for value: 0.3158497667948613\n",
            "Depth = 12 for value: 0.3158497667948613\n",
            "Depth = 13 for value: 0.3158497667948613\n",
            "Depth = 14 for value: 0.3158497667948613\n",
            "Depth = 15 for value: 0.3158497667948613\n",
            "Depth = 16 for value: 0.3158497667948613\n",
            "Depth = 17 for value: 0.3158497667948613\n",
            "Depth = 18 for value: 0.3158497667948613\n",
            "Depth = 19 for value: 0.3158497667948613\n"
          ]
        }
      ],
      "source": [
        "#DecisionTree\n",
        "\n",
        "from pathlib import Path\n",
        "from sklearn import tree\n",
        "from sklearn.tree import DecisionTreeClassifier\n",
        "from sklearn.ensemble import RandomForestClassifier\n",
        "from sklearn.model_selection import cross_val_score,GridSearchCV\n",
        "import matplotlib.pylab as plt\n",
        "\n",
        "for i in np.arange(1, 20):\n",
        "  classTree = DecisionTreeClassifier(max_depth=i, min_samples_leaf=0.005, random_state=0).fit(X_train, y_train)\n",
        "  predict = classTree.predict(X_valid)\n",
        "  err = np.mean(predict != y_valid)\n",
        "  value.append(err)\n",
        "  print('Depth =',i,'for value:',err)\n",
        "\n",
        "#The best value of depth is 10 since it has a low error rate"
      ]
    },
    {
      "cell_type": "code",
      "execution_count": 21,
      "metadata": {
        "colab": {
          "base_uri": "https://localhost:8080/"
        },
        "id": "xwKbJBomDjiz",
        "outputId": "ddff6c96-944d-4f44-8ae4-6168a8019c28"
      },
      "outputs": [
        {
          "output_type": "stream",
          "name": "stdout",
          "text": [
            "              precision    recall  f1-score   support\n",
            "\n",
            "        High       0.69      0.53      0.60      2995\n",
            "         Low       0.69      0.77      0.73      3165\n",
            "      Medium       0.68      0.72      0.70      6061\n",
            "\n",
            "    accuracy                           0.68     12221\n",
            "   macro avg       0.69      0.67      0.68     12221\n",
            "weighted avg       0.69      0.68      0.68     12221\n",
            "\n",
            "Accuracy Score for depth = 10 is 0.684723017756321\n"
          ]
        }
      ],
      "source": [
        "#Check accuracy \n",
        "\n",
        "import sklearn.metrics as metrics\n",
        "from sklearn.metrics import accuracy_score\n",
        "\n",
        "classTree = DecisionTreeClassifier(max_depth=10, random_state=0, min_samples_leaf=0.005).fit(X_train, y_train)\n",
        "predict = classTree.predict(X_valid)\n",
        "score = metrics.accuracy_score(y_valid,predict)\n",
        "print(classification_report(y_valid, predict))\n",
        "print('Accuracy Score for depth = 10 is', score)\n",
        "\n",
        "#The model has an accuracy of 68%"
      ]
    },
    {
      "cell_type": "code",
      "execution_count": 22,
      "metadata": {
        "colab": {
          "base_uri": "https://localhost:8080/"
        },
        "id": "vnCF-EeMKIFI",
        "outputId": "3a9b3032-a0ee-4dfb-8c3c-d5a7e76b109a"
      },
      "outputs": [
        {
          "output_type": "stream",
          "name": "stdout",
          "text": [
            "Depth = 1 for value: 0.504050405040504\n",
            "Depth = 2 for value: 0.4279518860977007\n",
            "Depth = 3 for value: 0.35586285901317405\n",
            "Depth = 4 for value: 0.3457163898208003\n",
            "Depth = 5 for value: 0.3399067179445217\n",
            "Depth = 6 for value: 0.3344243515260617\n",
            "Depth = 7 for value: 0.32591440962278045\n",
            "Depth = 8 for value: 0.3174044677194992\n",
            "Depth = 9 for value: 0.31151296947876606\n",
            "Depth = 10 for value: 0.30758530398494394\n",
            "Depth = 11 for value: 0.30439407577121347\n",
            "Depth = 12 for value: 0.301202847557483\n",
            "Depth = 13 for value: 0.29645691841911465\n",
            "Depth = 14 for value: 0.29408395384993047\n",
            "Depth = 15 for value: 0.2927747320186564\n",
            "Depth = 16 for value: 0.2962114393257508\n",
            "Depth = 17 for value: 0.2948203911300221\n",
            "Depth = 18 for value: 0.2969478766058424\n",
            "Depth = 19 for value: 0.29596596023238686\n"
          ]
        }
      ],
      "source": [
        "#RandomForest\n",
        "\n",
        "from pathlib import Path\n",
        "from sklearn import tree\n",
        "from sklearn.tree import DecisionTreeClassifier\n",
        "from sklearn.ensemble import RandomForestClassifier\n",
        "from sklearn.model_selection import cross_val_score,GridSearchCV\n",
        "import matplotlib.pylab as plt\n",
        "\n",
        "for i in np.arange(1, 20):\n",
        "  classTree = RandomForestClassifier(max_depth=i, random_state=0).fit(X_train, y_train)\n",
        "  predict = classTree.predict(X_valid)\n",
        "  err = np.mean(predict != y_valid)\n",
        "  value.append(err)\n",
        "  print('Depth =',i,'for value:',err)\n",
        "\n",
        "#The best value of depth is 19 since it has a low error rate"
      ]
    },
    {
      "cell_type": "code",
      "execution_count": 23,
      "metadata": {
        "colab": {
          "base_uri": "https://localhost:8080/"
        },
        "id": "CRrRw39RKnHx",
        "outputId": "ccbb737e-2124-4ace-c896-2eec642de397"
      },
      "outputs": [
        {
          "output_type": "stream",
          "name": "stdout",
          "text": [
            "              precision    recall  f1-score   support\n",
            "\n",
            "        High       0.70      0.59      0.64      2995\n",
            "         Low       0.72      0.76      0.74      3165\n",
            "      Medium       0.70      0.73      0.71      6061\n",
            "\n",
            "    accuracy                           0.70     12221\n",
            "   macro avg       0.71      0.70      0.70     12221\n",
            "weighted avg       0.70      0.70      0.70     12221\n",
            "\n",
            "Accuracy Score for depth = 19 is 0.7040340397676131\n"
          ]
        }
      ],
      "source": [
        "#Check accuracy \n",
        "\n",
        "import sklearn.metrics as metrics\n",
        "from sklearn.metrics import accuracy_score\n",
        "\n",
        "classTree = RandomForestClassifier(max_depth=19, random_state=0).fit(X_train, y_train)\n",
        "predict = classTree.predict(X_valid)\n",
        "score = metrics.accuracy_score(y_valid,predict)\n",
        "print(classification_report(y_valid, predict))\n",
        "print('Accuracy Score for depth = 19 is', score)\n",
        "\n",
        "#The model has an accuracy of 70%"
      ]
    },
    {
      "cell_type": "code",
      "execution_count": 24,
      "metadata": {
        "colab": {
          "base_uri": "https://localhost:8080/"
        },
        "id": "sh8O0WuIMVai",
        "outputId": "5009bf52-2d1c-4406-f3c5-1247b34e184b"
      },
      "outputs": [
        {
          "output_type": "stream",
          "name": "stdout",
          "text": [
            "Depth = 1 for value: 0.34514360526961785\n",
            "Depth = 2 for value: 0.3251779723426888\n",
            "Depth = 3 for value: 0.3099582685541281\n",
            "Depth = 4 for value: 0.30185745847312007\n",
            "Depth = 5 for value: 0.29711152933475166\n",
            "Depth = 6 for value: 0.2942476065788397\n",
            "Depth = 7 for value: 0.2939203011210212\n",
            "Depth = 8 for value: 0.29449308567220356\n",
            "Depth = 9 for value: 0.2947385647655675\n",
            "Depth = 10 for value: 0.29662057114802387\n",
            "Depth = 11 for value: 0.2971933556992063\n",
            "Depth = 12 for value: 0.29760248752147944\n",
            "Depth = 13 for value: 0.29858440389493496\n",
            "Depth = 14 for value: 0.3032485066688487\n",
            "Depth = 15 for value: 0.30185745847312007\n",
            "Depth = 16 for value: 0.3008755420996645\n",
            "Depth = 17 for value: 0.30292120121103017\n",
            "Depth = 18 for value: 0.3023484166598478\n",
            "Depth = 19 for value: 0.3025120693887571\n"
          ]
        }
      ],
      "source": [
        "#xgBoost\n",
        "from pathlib import Path\n",
        "from sklearn import tree\n",
        "from sklearn.tree import DecisionTreeClassifier\n",
        "from sklearn.ensemble import RandomForestClassifier\n",
        "from xgboost import XGBClassifier\n",
        "import matplotlib.pylab as plt\n",
        "\n",
        "for i in np.arange(1, 20):\n",
        "  classTree = XGBClassifier(max_depth=i, eta=0.01).fit(X_train, y_train)\n",
        "  predict = classTree.predict(X_valid)\n",
        "  err = np.mean(predict != y_valid)\n",
        "  value.append(err)\n",
        "  print('Depth =',i,'for value:',err)\n",
        "\n",
        "#The best value of depth is 10 since it has a low error rate"
      ]
    },
    {
      "cell_type": "code",
      "execution_count": 25,
      "metadata": {
        "colab": {
          "base_uri": "https://localhost:8080/"
        },
        "id": "jMn8RqeiStZ0",
        "outputId": "0dc11b7d-ac2f-4ba3-b47c-a3af9cfce8ee"
      },
      "outputs": [
        {
          "output_type": "stream",
          "name": "stdout",
          "text": [
            "              precision    recall  f1-score   support\n",
            "\n",
            "        High       0.69      0.60      0.64      2995\n",
            "         Low       0.72      0.74      0.73      3165\n",
            "      Medium       0.69      0.73      0.71      6061\n",
            "\n",
            "    accuracy                           0.70     12221\n",
            "   macro avg       0.70      0.69      0.69     12221\n",
            "weighted avg       0.70      0.70      0.70     12221\n",
            "\n",
            "Accuracy Score for depth = 10 is 0.6974879306112429\n"
          ]
        }
      ],
      "source": [
        "#Check accuracy \n",
        "\n",
        "import sklearn.metrics as metrics\n",
        "from sklearn.metrics import accuracy_score\n",
        "\n",
        "classTree = XGBClassifier(max_depth=10, eta=0.01).fit(X_train, y_train)\n",
        "predict_XG = classTree.predict(X_valid)\n",
        "score = metrics.accuracy_score(y_valid,predict)\n",
        "print(classification_report(y_valid, predict))\n",
        "print('Accuracy Score for depth = 10 is', score)\n",
        "\n",
        "#The model has an accuracy of 70%"
      ]
    },
    {
      "cell_type": "markdown",
      "metadata": {
        "id": "jR7IkGZSEkDo"
      },
      "source": [
        "Logistic Regression"
      ]
    },
    {
      "cell_type": "code",
      "execution_count": 26,
      "metadata": {
        "colab": {
          "base_uri": "https://localhost:8080/"
        },
        "id": "7E0cGuFM-09p",
        "outputId": "c6d37902-6688-4b3e-a80c-1bf1873b1927"
      },
      "outputs": [
        {
          "output_type": "stream",
          "name": "stdout",
          "text": [
            "Accuracy Score: 0.6293265690205384\n",
            "              precision    recall  f1-score   support\n",
            "\n",
            "        High       0.69      0.40      0.50      2995\n",
            "         Low       0.61      0.74      0.67      3165\n",
            "      Medium       0.62      0.69      0.65      6061\n",
            "\n",
            "    accuracy                           0.63     12221\n",
            "   macro avg       0.64      0.61      0.61     12221\n",
            "weighted avg       0.64      0.63      0.62     12221\n",
            "\n"
          ]
        }
      ],
      "source": [
        "##Logistic Regression\n",
        "\n",
        "from sklearn.linear_model import LogisticRegression\n",
        "from sklearn.metrics import classification_report, confusion_matrix\n",
        "model = LogisticRegression(solver='liblinear', random_state=42).fit(X_train, y_train)\n",
        "predict_LR = model.predict(X_valid)\n",
        "prob = model.predict_proba(X_valid)\n",
        "\n",
        "print('Accuracy Score:',model.score(X_valid,y_valid))\n",
        "#Classification report\n",
        "print(metrics.classification_report(y_valid,predict_LR,digits=2))"
      ]
    },
    {
      "cell_type": "markdown",
      "metadata": {
        "id": "j45paVpwEgLN"
      },
      "source": [
        "Confusion Matrix"
      ]
    },
    {
      "cell_type": "code",
      "execution_count": 27,
      "metadata": {
        "colab": {
          "base_uri": "https://localhost:8080/",
          "height": 299
        },
        "id": "iomdKh_JESLG",
        "outputId": "76a5c509-d70e-46d8-940b-4b88016ab048"
      },
      "outputs": [
        {
          "output_type": "execute_result",
          "data": {
            "text/plain": [
              "Text(0.5, 15.0, 'Predicted label')"
            ]
          },
          "metadata": {},
          "execution_count": 27
        },
        {
          "output_type": "display_data",
          "data": {
            "text/plain": [
              "<Figure size 432x288 with 2 Axes>"
            ],
            "image/png": "[encoded data removed]"
          },
          "metadata": {
            "needs_background": "light"
          }
        }
      ],
      "source": [
        "from sklearn import metrics\n",
        "cm = metrics.confusion_matrix(y_valid,predict_LR)\n",
        "cm\n",
        "#####\n",
        "\n",
        "import seaborn as sn\n",
        "sn.heatmap(cm, annot=True,  fmt='.2f', xticklabels = [\"No\", \"Yes\"] , yticklabels = [\"No\", \"Yes\"],)\n",
        "plt.ylabel('True label',fontsize=12)\n",
        "plt.xlabel('Predicted label',fontsize=12)"
      ]
    },
    {
      "cell_type": "code",
      "execution_count": 27,
      "metadata": {
        "id": "OeoSl8gGFsV8"
      },
      "outputs": [],
      "source": [
        ""
      ]
    },
    {
      "cell_type": "code",
      "execution_count": 28,
      "metadata": {
        "colab": {
          "base_uri": "https://localhost:8080/"
        },
        "id": "gAuK9ja58d8r",
        "outputId": "3067bb1b-bde8-44cc-f8aa-903f98cb7830"
      },
      "outputs": [
        {
          "output_type": "execute_result",
          "data": {
            "text/plain": [
              "<bound method NDFrame.head of        Actual Predicted\n",
              "3474   Medium    Medium\n",
              "37387     Low       Low\n",
              "44147  Medium       Low\n",
              "40228  Medium    Medium\n",
              "36090  Medium    Medium\n",
              "...       ...       ...\n",
              "36839  Medium       Low\n",
              "23985     Low       Low\n",
              "15692    High    Medium\n",
              "36556    High      High\n",
              "40802  Medium      High\n",
              "\n",
              "[12221 rows x 2 columns]>"
            ]
          },
          "metadata": {},
          "execution_count": 28
        }
      ],
      "source": [
        "LR = pd.DataFrame({'Actual' : y_valid,'Predicted': predict_LR})\n",
        "LR.head"
      ]
    },
    {
      "cell_type": "markdown",
      "metadata": {
        "id": "mkUNSIZRT65W"
      },
      "source": [
        "3. Using Naive Bayes Model:"
      ]
    },
    {
      "cell_type": "code",
      "execution_count": 29,
      "metadata": {
        "id": "22cI8naVgMP-"
      },
      "outputs": [],
      "source": [
        "import matplotlib.pyplot as plt\n",
        "from sklearn import model_selection\n",
        "from sklearn.naive_bayes import GaussianNB\n",
        "from sklearn.metrics import classification_report\n",
        "\n",
        "Naive = GaussianNB().fit(X_train, y_train)\n",
        "predict = Naive.predict(X_valid)"
      ]
    },
    {
      "cell_type": "code",
      "execution_count": 30,
      "metadata": {
        "colab": {
          "base_uri": "https://localhost:8080/"
        },
        "id": "B1edW_7OUuNu",
        "outputId": "7f5d98f0-799e-4b07-a324-cfb7e9d9edb3"
      },
      "outputs": [
        {
          "output_type": "stream",
          "name": "stdout",
          "text": [
            "              precision    recall  f1-score   support\n",
            "\n",
            "        High       0.49      0.80      0.61      2995\n",
            "         Low       0.59      0.76      0.66      3165\n",
            "      Medium       0.65      0.35      0.46      6061\n",
            "\n",
            "    accuracy                           0.57     12221\n",
            "   macro avg       0.58      0.64      0.58     12221\n",
            "weighted avg       0.59      0.57      0.55     12221\n",
            "\n",
            "Accuracy Score is 0.5671385320350217\n"
          ]
        }
      ],
      "source": [
        "#Check accuracy \n",
        "\n",
        "score = metrics.accuracy_score(y_valid,predict)\n",
        "print(classification_report(y_valid, predict))\n",
        "print('Accuracy Score is', score)\n",
        "\n",
        "#The model has an accuracy of 57%"
      ]
    },
    {
      "cell_type": "markdown",
      "metadata": {
        "id": "0hkIRBwNf1RY"
      },
      "source": [
        "Scaling"
      ]
    },
    {
      "cell_type": "code",
      "execution_count": 31,
      "metadata": {
        "colab": {
          "base_uri": "https://localhost:8080/",
          "height": 288
        },
        "id": "cSgH6x-1gM3T",
        "outputId": "3bed3018-cb43-4a37-fa7c-e24f2321a3c8"
      },
      "outputs": [
        {
          "output_type": "execute_result",
          "data": {
            "text/plain": [
              "   latitude  longitude   price  minimum_nights  number_of_reviews  \\\n",
              "0 -1.493872  -0.437504  Medium       -0.293969          -0.320353   \n",
              "1  0.452352  -0.684480    High       -0.293969           0.487712   \n",
              "2  1.468284   0.222616  Medium       -0.196465          -0.522369   \n",
              "3 -0.803442  -0.164313  Medium       -0.293969           5.538118   \n",
              "4  1.275551   0.177337  Medium        0.144799          -0.320353   \n",
              "\n",
              "   reviews_per_month  calculated_host_listings_count  availability_365  \\\n",
              "0          -0.776628                       -0.034732          1.916192   \n",
              "1          -0.663119                       -0.156107          1.840219   \n",
              "2           0.000050                       -0.186450          1.916192   \n",
              "3           2.181262                       -0.186450          0.617056   \n",
              "4          -0.850074                       -0.186450         -0.856818   \n",
              "\n",
              "   neighbourhood_group_Bronx  neighbourhood_group_Brooklyn  \\\n",
              "0                          0                             1   \n",
              "1                          0                             0   \n",
              "2                          0                             0   \n",
              "3                          0                             1   \n",
              "4                          0                             0   \n",
              "\n",
              "   neighbourhood_group_Manhattan  neighbourhood_group_Queens  \\\n",
              "0                              0                           0   \n",
              "1                              1                           0   \n",
              "2                              1                           0   \n",
              "3                              0                           0   \n",
              "4                              1                           0   \n",
              "\n",
              "   neighbourhood_group_Staten Island  room_type_Entire home/apt  \\\n",
              "0                                  0                          0   \n",
              "1                                  0                          1   \n",
              "2                                  0                          0   \n",
              "3                                  0                          1   \n",
              "4                                  0                          1   \n",
              "\n",
              "   room_type_Private room  room_type_Shared room  \n",
              "0                       1                      0  \n",
              "1                       0                      0  \n",
              "2                       1                      0  \n",
              "3                       0                      0  \n",
              "4                       0                      0  "
            ],
            "text/html": [
              "\n",
              "  <div id=\"df-7d88fafb-4d5f-403c-b6ec-55382bdbc045\">\n",
              "    <div class=\"colab-df-container\">\n",
              "      <div>\n",
              "<style scoped>\n",
              "    .dataframe tbody tr th:only-of-type {\n",
              "        vertical-align: middle;\n",
              "    }\n",
              "\n",
              "    .dataframe tbody tr th {\n",
              "        vertical-align: top;\n",
              "    }\n",
              "\n",
              "    .dataframe thead th {\n",
              "        text-align: right;\n",
              "    }\n",
              "</style>\n",
              "<table border=\"1\" class=\"dataframe\">\n",
              "  <thead>\n",
              "    <tr style=\"text-align: right;\">\n",
              "      <th></th>\n",
              "      <th>latitude</th>\n",
              "      <th>longitude</th>\n",
              "      <th>price</th>\n",
              "      <th>minimum_nights</th>\n",
              "      <th>number_of_reviews</th>\n",
              "      <th>reviews_per_month</th>\n",
              "      <th>calculated_host_listings_count</th>\n",
              "      <th>availability_365</th>\n",
              "      <th>neighbourhood_group_Bronx</th>\n",
              "      <th>neighbourhood_group_Brooklyn</th>\n",
              "      <th>neighbourhood_group_Manhattan</th>\n",
              "      <th>neighbourhood_group_Queens</th>\n",
              "      <th>neighbourhood_group_Staten Island</th>\n",
              "      <th>room_type_Entire home/apt</th>\n",
              "      <th>room_type_Private room</th>\n",
              "      <th>room_type_Shared room</th>\n",
              "    </tr>\n",
              "  </thead>\n",
              "  <tbody>\n",
              "    <tr>\n",
              "      <th>0</th>\n",
              "      <td>-1.493872</td>\n",
              "      <td>-0.437504</td>\n",
              "      <td>Medium</td>\n",
              "      <td>-0.293969</td>\n",
              "      <td>-0.320353</td>\n",
              "      <td>-0.776628</td>\n",
              "      <td>-0.034732</td>\n",
              "      <td>1.916192</td>\n",
              "      <td>0</td>\n",
              "      <td>1</td>\n",
              "      <td>0</td>\n",
              "      <td>0</td>\n",
              "      <td>0</td>\n",
              "      <td>0</td>\n",
              "      <td>1</td>\n",
              "      <td>0</td>\n",
              "    </tr>\n",
              "    <tr>\n",
              "      <th>1</th>\n",
              "      <td>0.452352</td>\n",
              "      <td>-0.684480</td>\n",
              "      <td>High</td>\n",
              "      <td>-0.293969</td>\n",
              "      <td>0.487712</td>\n",
              "      <td>-0.663119</td>\n",
              "      <td>-0.156107</td>\n",
              "      <td>1.840219</td>\n",
              "      <td>0</td>\n",
              "      <td>0</td>\n",
              "      <td>1</td>\n",
              "      <td>0</td>\n",
              "      <td>0</td>\n",
              "      <td>1</td>\n",
              "      <td>0</td>\n",
              "      <td>0</td>\n",
              "    </tr>\n",
              "    <tr>\n",
              "      <th>2</th>\n",
              "      <td>1.468284</td>\n",
              "      <td>0.222616</td>\n",
              "      <td>Medium</td>\n",
              "      <td>-0.196465</td>\n",
              "      <td>-0.522369</td>\n",
              "      <td>0.000050</td>\n",
              "      <td>-0.186450</td>\n",
              "      <td>1.916192</td>\n",
              "      <td>0</td>\n",
              "      <td>0</td>\n",
              "      <td>1</td>\n",
              "      <td>0</td>\n",
              "      <td>0</td>\n",
              "      <td>0</td>\n",
              "      <td>1</td>\n",
              "      <td>0</td>\n",
              "    </tr>\n",
              "    <tr>\n",
              "      <th>3</th>\n",
              "      <td>-0.803442</td>\n",
              "      <td>-0.164313</td>\n",
              "      <td>Medium</td>\n",
              "      <td>-0.293969</td>\n",
              "      <td>5.538118</td>\n",
              "      <td>2.181262</td>\n",
              "      <td>-0.186450</td>\n",
              "      <td>0.617056</td>\n",
              "      <td>0</td>\n",
              "      <td>1</td>\n",
              "      <td>0</td>\n",
              "      <td>0</td>\n",
              "      <td>0</td>\n",
              "      <td>1</td>\n",
              "      <td>0</td>\n",
              "      <td>0</td>\n",
              "    </tr>\n",
              "    <tr>\n",
              "      <th>4</th>\n",
              "      <td>1.275551</td>\n",
              "      <td>0.177337</td>\n",
              "      <td>Medium</td>\n",
              "      <td>0.144799</td>\n",
              "      <td>-0.320353</td>\n",
              "      <td>-0.850074</td>\n",
              "      <td>-0.186450</td>\n",
              "      <td>-0.856818</td>\n",
              "      <td>0</td>\n",
              "      <td>0</td>\n",
              "      <td>1</td>\n",
              "      <td>0</td>\n",
              "      <td>0</td>\n",
              "      <td>1</td>\n",
              "      <td>0</td>\n",
              "      <td>0</td>\n",
              "    </tr>\n",
              "  </tbody>\n",
              "</table>\n",
              "</div>\n",
              "      <button class=\"colab-df-convert\" onclick=\"convertToInteractive('df-7d88fafb-4d5f-403c-b6ec-55382bdbc045')\"\n",
              "              title=\"Convert this dataframe to an interactive table.\"\n",
              "              style=\"display:none;\">\n",
              "        \n",
              "  <svg xmlns=\"http://www.w3.org/2000/svg\" height=\"24px\"viewBox=\"0 0 24 24\"\n",
              "       width=\"24px\">\n",
              "    <path d=\"M0 0h24v24H0V0z\" fill=\"none\"/>\n",
              "    <path d=\"M18.56 5.44l.94 2.06.94-2.06 2.06-.94-2.06-.94-.94-2.06-.94 2.06-2.06.94zm-11 1L8.5 8.5l.94-2.06 2.06-.94-2.06-.94L8.5 2.5l-.94 2.06-2.06.94zm10 10l.94 2.06.94-2.06 2.06-.94-2.06-.94-.94-2.06-.94 2.06-2.06.94z\"/><path d=\"M17.41 7.96l-1.37-1.37c-.4-.4-.92-.59-1.43-.59-.52 0-1.04.2-1.43.59L10.3 9.45l-7.72 7.72c-.78.78-.78 2.05 0 2.83L4 21.41c.39.39.9.59 1.41.59.51 0 1.02-.2 1.41-.59l7.78-7.78 2.81-2.81c.8-.78.8-2.07 0-2.86zM5.41 20L4 18.59l7.72-7.72 1.47 1.35L5.41 20z\"/>\n",
              "  </svg>\n",
              "      </button>\n",
              "      \n",
              "  <style>\n",
              "    .colab-df-container {\n",
              "      display:flex;\n",
              "      flex-wrap:wrap;\n",
              "      gap: 12px;\n",
              "    }\n",
              "\n",
              "    .colab-df-convert {\n",
              "      background-color: #E8F0FE;\n",
              "      border: none;\n",
              "      border-radius: 50%;\n",
              "      cursor: pointer;\n",
              "      display: none;\n",
              "      fill: #1967D2;\n",
              "      height: 32px;\n",
              "      padding: 0 0 0 0;\n",
              "      width: 32px;\n",
              "    }\n",
              "\n",
              "    .colab-df-convert:hover {\n",
              "      background-color: #E2EBFA;\n",
              "      box-shadow: 0px 1px 2px rgba(60, 64, 67, 0.3), 0px 1px 3px 1px rgba(60, 64, 67, 0.15);\n",
              "      fill: #174EA6;\n",
              "    }\n",
              "\n",
              "    [theme=dark] .colab-df-convert {\n",
              "      background-color: #3B4455;\n",
              "      fill: #D2E3FC;\n",
              "    }\n",
              "\n",
              "    [theme=dark] .colab-df-convert:hover {\n",
              "      background-color: #434B5C;\n",
              "      box-shadow: 0px 1px 3px 1px rgba(0, 0, 0, 0.15);\n",
              "      filter: drop-shadow(0px 1px 2px rgba(0, 0, 0, 0.3));\n",
              "      fill: #FFFFFF;\n",
              "    }\n",
              "  </style>\n",
              "\n",
              "      <script>\n",
              "        const buttonEl =\n",
              "          document.querySelector('#df-7d88fafb-4d5f-403c-b6ec-55382bdbc045 button.colab-df-convert');\n",
              "        buttonEl.style.display =\n",
              "          google.colab.kernel.accessAllowed ? 'block' : 'none';\n",
              "\n",
              "        async function convertToInteractive(key) {\n",
              "          const element = document.querySelector('#df-7d88fafb-4d5f-403c-b6ec-55382bdbc045');\n",
              "          const dataTable =\n",
              "            await google.colab.kernel.invokeFunction('convertToInteractive',\n",
              "                                                     [key], {});\n",
              "          if (!dataTable) return;\n",
              "\n",
              "          const docLinkHtml = 'Like what you see? Visit the ' +\n",
              "            '<a target=\"_blank\" href=https://colab.research.google.com/notebooks/data_table.ipynb>data table notebook</a>'\n",
              "            + ' to learn more about interactive tables.';\n",
              "          element.innerHTML = '';\n",
              "          dataTable['output_type'] = 'display_data';\n",
              "          await google.colab.output.renderOutput(dataTable, element);\n",
              "          const docLink = document.createElement('div');\n",
              "          docLink.innerHTML = docLinkHtml;\n",
              "          element.appendChild(docLink);\n",
              "        }\n",
              "      </script>\n",
              "    </div>\n",
              "  </div>\n",
              "  "
            ]
          },
          "metadata": {},
          "execution_count": 31
        }
      ],
      "source": [
        "#Rescaling the data. Note that dummy variables are not recscaled\n",
        "\n",
        "data1 = df1\n",
        "from sklearn.preprocessing import StandardScaler\n",
        "\n",
        "scaler = StandardScaler()\n",
        "data1[['latitude','longitude','minimum_nights','number_of_reviews','reviews_per_month','calculated_host_listings_count','availability_365']] = scaler.fit_transform(data1[['latitude','longitude','minimum_nights','number_of_reviews','reviews_per_month','calculated_host_listings_count','availability_365']])\n",
        "data1.head()\n"
      ]
    },
    {
      "cell_type": "markdown",
      "metadata": {
        "id": "4Qehm44MQTOj"
      },
      "source": [
        ""
      ]
    },
    {
      "cell_type": "code",
      "execution_count": 32,
      "metadata": {
        "colab": {
          "base_uri": "https://localhost:8080/",
          "height": 288
        },
        "id": "Hl3t8RnQQ-Vu",
        "outputId": "9ffca832-d002-4016-d14b-8b699e0d8f91"
      },
      "outputs": [
        {
          "output_type": "execute_result",
          "data": {
            "text/plain": [
              "   latitude  longitude  minimum_nights  number_of_reviews  reviews_per_month  \\\n",
              "0 -1.493872  -0.437504       -0.293969          -0.320353          -0.776628   \n",
              "1  0.452352  -0.684480       -0.293969           0.487712          -0.663119   \n",
              "2  1.468284   0.222616       -0.196465          -0.522369           0.000050   \n",
              "3 -0.803442  -0.164313       -0.293969           5.538118           2.181262   \n",
              "4  1.275551   0.177337        0.144799          -0.320353          -0.850074   \n",
              "\n",
              "   calculated_host_listings_count  availability_365  \\\n",
              "0                       -0.034732          1.916192   \n",
              "1                       -0.156107          1.840219   \n",
              "2                       -0.186450          1.916192   \n",
              "3                       -0.186450          0.617056   \n",
              "4                       -0.186450         -0.856818   \n",
              "\n",
              "   neighbourhood_group_Bronx  neighbourhood_group_Brooklyn  \\\n",
              "0                          0                             1   \n",
              "1                          0                             0   \n",
              "2                          0                             0   \n",
              "3                          0                             1   \n",
              "4                          0                             0   \n",
              "\n",
              "   neighbourhood_group_Manhattan  neighbourhood_group_Queens  \\\n",
              "0                              0                           0   \n",
              "1                              1                           0   \n",
              "2                              1                           0   \n",
              "3                              0                           0   \n",
              "4                              1                           0   \n",
              "\n",
              "   neighbourhood_group_Staten Island  room_type_Entire home/apt  \\\n",
              "0                                  0                          0   \n",
              "1                                  0                          1   \n",
              "2                                  0                          0   \n",
              "3                                  0                          1   \n",
              "4                                  0                          1   \n",
              "\n",
              "   room_type_Private room  room_type_Shared room  \n",
              "0                       1                      0  \n",
              "1                       0                      0  \n",
              "2                       1                      0  \n",
              "3                       0                      0  \n",
              "4                       0                      0  "
            ],
            "text/html": [
              "\n",
              "  <div id=\"df-51dbb8bb-3bcf-4a0c-81c6-2fa630890624\">\n",
              "    <div class=\"colab-df-container\">\n",
              "      <div>\n",
              "<style scoped>\n",
              "    .dataframe tbody tr th:only-of-type {\n",
              "        vertical-align: middle;\n",
              "    }\n",
              "\n",
              "    .dataframe tbody tr th {\n",
              "        vertical-align: top;\n",
              "    }\n",
              "\n",
              "    .dataframe thead th {\n",
              "        text-align: right;\n",
              "    }\n",
              "</style>\n",
              "<table border=\"1\" class=\"dataframe\">\n",
              "  <thead>\n",
              "    <tr style=\"text-align: right;\">\n",
              "      <th></th>\n",
              "      <th>latitude</th>\n",
              "      <th>longitude</th>\n",
              "      <th>minimum_nights</th>\n",
              "      <th>number_of_reviews</th>\n",
              "      <th>reviews_per_month</th>\n",
              "      <th>calculated_host_listings_count</th>\n",
              "      <th>availability_365</th>\n",
              "      <th>neighbourhood_group_Bronx</th>\n",
              "      <th>neighbourhood_group_Brooklyn</th>\n",
              "      <th>neighbourhood_group_Manhattan</th>\n",
              "      <th>neighbourhood_group_Queens</th>\n",
              "      <th>neighbourhood_group_Staten Island</th>\n",
              "      <th>room_type_Entire home/apt</th>\n",
              "      <th>room_type_Private room</th>\n",
              "      <th>room_type_Shared room</th>\n",
              "    </tr>\n",
              "  </thead>\n",
              "  <tbody>\n",
              "    <tr>\n",
              "      <th>0</th>\n",
              "      <td>-1.493872</td>\n",
              "      <td>-0.437504</td>\n",
              "      <td>-0.293969</td>\n",
              "      <td>-0.320353</td>\n",
              "      <td>-0.776628</td>\n",
              "      <td>-0.034732</td>\n",
              "      <td>1.916192</td>\n",
              "      <td>0</td>\n",
              "      <td>1</td>\n",
              "      <td>0</td>\n",
              "      <td>0</td>\n",
              "      <td>0</td>\n",
              "      <td>0</td>\n",
              "      <td>1</td>\n",
              "      <td>0</td>\n",
              "    </tr>\n",
              "    <tr>\n",
              "      <th>1</th>\n",
              "      <td>0.452352</td>\n",
              "      <td>-0.684480</td>\n",
              "      <td>-0.293969</td>\n",
              "      <td>0.487712</td>\n",
              "      <td>-0.663119</td>\n",
              "      <td>-0.156107</td>\n",
              "      <td>1.840219</td>\n",
              "      <td>0</td>\n",
              "      <td>0</td>\n",
              "      <td>1</td>\n",
              "      <td>0</td>\n",
              "      <td>0</td>\n",
              "      <td>1</td>\n",
              "      <td>0</td>\n",
              "      <td>0</td>\n",
              "    </tr>\n",
              "    <tr>\n",
              "      <th>2</th>\n",
              "      <td>1.468284</td>\n",
              "      <td>0.222616</td>\n",
              "      <td>-0.196465</td>\n",
              "      <td>-0.522369</td>\n",
              "      <td>0.000050</td>\n",
              "      <td>-0.186450</td>\n",
              "      <td>1.916192</td>\n",
              "      <td>0</td>\n",
              "      <td>0</td>\n",
              "      <td>1</td>\n",
              "      <td>0</td>\n",
              "      <td>0</td>\n",
              "      <td>0</td>\n",
              "      <td>1</td>\n",
              "      <td>0</td>\n",
              "    </tr>\n",
              "    <tr>\n",
              "      <th>3</th>\n",
              "      <td>-0.803442</td>\n",
              "      <td>-0.164313</td>\n",
              "      <td>-0.293969</td>\n",
              "      <td>5.538118</td>\n",
              "      <td>2.181262</td>\n",
              "      <td>-0.186450</td>\n",
              "      <td>0.617056</td>\n",
              "      <td>0</td>\n",
              "      <td>1</td>\n",
              "      <td>0</td>\n",
              "      <td>0</td>\n",
              "      <td>0</td>\n",
              "      <td>1</td>\n",
              "      <td>0</td>\n",
              "      <td>0</td>\n",
              "    </tr>\n",
              "    <tr>\n",
              "      <th>4</th>\n",
              "      <td>1.275551</td>\n",
              "      <td>0.177337</td>\n",
              "      <td>0.144799</td>\n",
              "      <td>-0.320353</td>\n",
              "      <td>-0.850074</td>\n",
              "      <td>-0.186450</td>\n",
              "      <td>-0.856818</td>\n",
              "      <td>0</td>\n",
              "      <td>0</td>\n",
              "      <td>1</td>\n",
              "      <td>0</td>\n",
              "      <td>0</td>\n",
              "      <td>1</td>\n",
              "      <td>0</td>\n",
              "      <td>0</td>\n",
              "    </tr>\n",
              "  </tbody>\n",
              "</table>\n",
              "</div>\n",
              "      <button class=\"colab-df-convert\" onclick=\"convertToInteractive('df-51dbb8bb-3bcf-4a0c-81c6-2fa630890624')\"\n",
              "              title=\"Convert this dataframe to an interactive table.\"\n",
              "              style=\"display:none;\">\n",
              "        \n",
              "  <svg xmlns=\"http://www.w3.org/2000/svg\" height=\"24px\"viewBox=\"0 0 24 24\"\n",
              "       width=\"24px\">\n",
              "    <path d=\"M0 0h24v24H0V0z\" fill=\"none\"/>\n",
              "    <path d=\"M18.56 5.44l.94 2.06.94-2.06 2.06-.94-2.06-.94-.94-2.06-.94 2.06-2.06.94zm-11 1L8.5 8.5l.94-2.06 2.06-.94-2.06-.94L8.5 2.5l-.94 2.06-2.06.94zm10 10l.94 2.06.94-2.06 2.06-.94-2.06-.94-.94-2.06-.94 2.06-2.06.94z\"/><path d=\"M17.41 7.96l-1.37-1.37c-.4-.4-.92-.59-1.43-.59-.52 0-1.04.2-1.43.59L10.3 9.45l-7.72 7.72c-.78.78-.78 2.05 0 2.83L4 21.41c.39.39.9.59 1.41.59.51 0 1.02-.2 1.41-.59l7.78-7.78 2.81-2.81c.8-.78.8-2.07 0-2.86zM5.41 20L4 18.59l7.72-7.72 1.47 1.35L5.41 20z\"/>\n",
              "  </svg>\n",
              "      </button>\n",
              "      \n",
              "  <style>\n",
              "    .colab-df-container {\n",
              "      display:flex;\n",
              "      flex-wrap:wrap;\n",
              "      gap: 12px;\n",
              "    }\n",
              "\n",
              "    .colab-df-convert {\n",
              "      background-color: #E8F0FE;\n",
              "      border: none;\n",
              "      border-radius: 50%;\n",
              "      cursor: pointer;\n",
              "      display: none;\n",
              "      fill: #1967D2;\n",
              "      height: 32px;\n",
              "      padding: 0 0 0 0;\n",
              "      width: 32px;\n",
              "    }\n",
              "\n",
              "    .colab-df-convert:hover {\n",
              "      background-color: #E2EBFA;\n",
              "      box-shadow: 0px 1px 2px rgba(60, 64, 67, 0.3), 0px 1px 3px 1px rgba(60, 64, 67, 0.15);\n",
              "      fill: #174EA6;\n",
              "    }\n",
              "\n",
              "    [theme=dark] .colab-df-convert {\n",
              "      background-color: #3B4455;\n",
              "      fill: #D2E3FC;\n",
              "    }\n",
              "\n",
              "    [theme=dark] .colab-df-convert:hover {\n",
              "      background-color: #434B5C;\n",
              "      box-shadow: 0px 1px 3px 1px rgba(0, 0, 0, 0.15);\n",
              "      filter: drop-shadow(0px 1px 2px rgba(0, 0, 0, 0.3));\n",
              "      fill: #FFFFFF;\n",
              "    }\n",
              "  </style>\n",
              "\n",
              "      <script>\n",
              "        const buttonEl =\n",
              "          document.querySelector('#df-51dbb8bb-3bcf-4a0c-81c6-2fa630890624 button.colab-df-convert');\n",
              "        buttonEl.style.display =\n",
              "          google.colab.kernel.accessAllowed ? 'block' : 'none';\n",
              "\n",
              "        async function convertToInteractive(key) {\n",
              "          const element = document.querySelector('#df-51dbb8bb-3bcf-4a0c-81c6-2fa630890624');\n",
              "          const dataTable =\n",
              "            await google.colab.kernel.invokeFunction('convertToInteractive',\n",
              "                                                     [key], {});\n",
              "          if (!dataTable) return;\n",
              "\n",
              "          const docLinkHtml = 'Like what you see? Visit the ' +\n",
              "            '<a target=\"_blank\" href=https://colab.research.google.com/notebooks/data_table.ipynb>data table notebook</a>'\n",
              "            + ' to learn more about interactive tables.';\n",
              "          element.innerHTML = '';\n",
              "          dataTable['output_type'] = 'display_data';\n",
              "          await google.colab.output.renderOutput(dataTable, element);\n",
              "          const docLink = document.createElement('div');\n",
              "          docLink.innerHTML = docLinkHtml;\n",
              "          element.appendChild(docLink);\n",
              "        }\n",
              "      </script>\n",
              "    </div>\n",
              "  </div>\n",
              "  "
            ]
          },
          "metadata": {},
          "execution_count": 32
        }
      ],
      "source": [
        "#Since 'price' is the response variable \n",
        "\n",
        "y = data1['price'] \n",
        "data1=data1.drop(['price'],axis=1)\n",
        "data1.head()"
      ]
    },
    {
      "cell_type": "markdown",
      "metadata": {
        "id": "VFwoMsV5RyX7"
      },
      "source": [
        "Partitioning\n"
      ]
    },
    {
      "cell_type": "code",
      "execution_count": 33,
      "metadata": {
        "colab": {
          "base_uri": "https://localhost:8080/"
        },
        "id": "H1G5aoVfR6-c",
        "outputId": "92e19919-f0f2-45c7-ffe6-fcfdda537690"
      },
      "outputs": [
        {
          "output_type": "stream",
          "name": "stdout",
          "text": [
            "(36663, 15) (12221, 15) (36663,) (12221,)\n"
          ]
        }
      ],
      "source": [
        "#Partition the data into 75% training and 25% validation set\n",
        "\n",
        "from sklearn.model_selection import train_test_split\n",
        "\n",
        "X_train, X_valid, y_train, y_valid = train_test_split(data1, y, random_state=0, test_size=0.25)\n",
        "print(X_train.shape, X_valid.shape, y_train.shape, y_valid.shape)"
      ]
    },
    {
      "cell_type": "markdown",
      "metadata": {
        "id": "k1gCa06ESU8s"
      },
      "source": [
        "Implementation of Models:\n",
        "\n",
        "Using KNN Model"
      ]
    },
    {
      "cell_type": "code",
      "execution_count": 34,
      "metadata": {
        "colab": {
          "base_uri": "https://localhost:8080/"
        },
        "id": "081k6MUUSQEt",
        "outputId": "5cf6a53d-e067-4ea6-8e0f-af9475810528"
      },
      "outputs": [
        {
          "output_type": "stream",
          "name": "stdout",
          "text": [
            "k = 5 for value: 0.3483348334833483\n",
            "k = 6 for value: 0.34113411341134114\n",
            "k = 7 for value: 0.3339333933393339\n",
            "k = 8 for value: 0.3311512969478766\n",
            "k = 9 for value: 0.3255052778005073\n",
            "k = 10 for value: 0.324032403240324\n",
            "k = 11 for value: 0.3251779723426888\n",
            "k = 12 for value: 0.32771458964078226\n",
            "k = 13 for value: 0.3241960559692333\n",
            "k = 14 for value: 0.3269781523606906\n",
            "k = 15 for value: 0.32444153506259715\n",
            "k = 16 for value: 0.3290238114720563\n",
            "k = 17 for value: 0.32738728418296376\n",
            "k = 18 for value: 0.32575075689387123\n",
            "k = 19 for value: 0.3269781523606906\n"
          ]
        }
      ],
      "source": [
        "#To get the best k value \n",
        "\n",
        "import sklearn.metrics as metrics\n",
        "from sklearn import neighbors\n",
        "from sklearn.metrics import mean_squared_error \n",
        "from math import sqrt\n",
        "\n",
        "value = []\n",
        "for i in range(5,20):\n",
        " knn = neighbors.KNeighborsClassifier(n_neighbors=i).fit(X_train,y_train)\n",
        " predict = knn.predict(X_valid)\n",
        " err = np.mean(predict != y_valid)\n",
        " value.append(err)\n",
        " print('k =',i,'for value:',err)"
      ]
    },
    {
      "cell_type": "code",
      "execution_count": 35,
      "metadata": {
        "colab": {
          "base_uri": "https://localhost:8080/"
        },
        "id": "C3yz_w3_S1J1",
        "outputId": "9569e795-0511-44b6-c3cd-9e4016d9c424"
      },
      "outputs": [
        {
          "output_type": "stream",
          "name": "stdout",
          "text": [
            "              precision    recall  f1-score   support\n",
            "\n",
            "        High       0.67      0.57      0.61      2995\n",
            "         Low       0.68      0.73      0.70      3165\n",
            "      Medium       0.67      0.70      0.68      6061\n",
            "\n",
            "    accuracy                           0.67     12221\n",
            "   macro avg       0.67      0.66      0.67     12221\n",
            "weighted avg       0.67      0.67      0.67     12221\n",
            "\n",
            "Accuracy Score for k = 19 is 0.6730218476393094\n"
          ]
        }
      ],
      "source": [
        "#Check accuracy \n",
        "\n",
        "import sklearn.metrics as metrics\n",
        "from sklearn.metrics import classification_report\n",
        "\n",
        "knn = neighbors.KNeighborsClassifier(n_neighbors = 19).fit(X_train,y_train)\n",
        "predict = knn.predict(X_valid)\n",
        "score = metrics.accuracy_score(y_valid,predict)\n",
        "print(classification_report(y_valid, predict))\n",
        "print('Accuracy Score for k = 19 is', score)\n",
        "\n",
        "#The model has an accuracy of 67% "
      ]
    },
    {
      "cell_type": "markdown",
      "metadata": {
        "id": "IiSCrcKdTPJq"
      },
      "source": [
        "2.Using Tree Model:"
      ]
    },
    {
      "cell_type": "code",
      "execution_count": 36,
      "metadata": {
        "colab": {
          "base_uri": "https://localhost:8080/"
        },
        "id": "ear-2326S9hR",
        "outputId": "f5864ec5-c3e5-400a-a188-759cfde2b4ef"
      },
      "outputs": [
        {
          "output_type": "stream",
          "name": "stdout",
          "text": [
            "Depth = 1 for value: 0.475083872023566\n",
            "Depth = 2 for value: 0.3836019965632927\n",
            "Depth = 3 for value: 0.3516078880615334\n",
            "Depth = 4 for value: 0.33900662793552083\n",
            "Depth = 5 for value: 0.33696096882415516\n",
            "Depth = 6 for value: 0.32378692414696014\n",
            "Depth = 7 for value: 0.31846821045740936\n",
            "Depth = 8 for value: 0.3213321332133213\n",
            "Depth = 9 for value: 0.3167498568038622\n",
            "Depth = 10 for value: 0.3152769822436789\n",
            "Depth = 11 for value: 0.3158497667948613\n",
            "Depth = 12 for value: 0.3158497667948613\n",
            "Depth = 13 for value: 0.3158497667948613\n",
            "Depth = 14 for value: 0.3158497667948613\n",
            "Depth = 15 for value: 0.3158497667948613\n",
            "Depth = 16 for value: 0.3158497667948613\n",
            "Depth = 17 for value: 0.3158497667948613\n",
            "Depth = 18 for value: 0.3158497667948613\n",
            "Depth = 19 for value: 0.3158497667948613\n"
          ]
        }
      ],
      "source": [
        "#DecisionTree\n",
        "\n",
        "from pathlib import Path\n",
        "from sklearn import tree\n",
        "from sklearn.tree import DecisionTreeClassifier\n",
        "from sklearn.ensemble import RandomForestClassifier\n",
        "from sklearn.model_selection import cross_val_score,GridSearchCV\n",
        "import matplotlib.pylab as plt\n",
        "\n",
        "for i in np.arange(1, 20):\n",
        "  classTree = DecisionTreeClassifier(max_depth=i, min_samples_leaf=0.005, random_state=0).fit(X_train, y_train)\n",
        "  predict = classTree.predict(X_valid)\n",
        "  err = np.mean(predict != y_valid)\n",
        "  value.append(err)\n",
        "  print('Depth =',i,'for value:',err)\n",
        "\n",
        "#The best value of depth is 10 since it has a low error rate"
      ]
    },
    {
      "cell_type": "code",
      "execution_count": 37,
      "metadata": {
        "colab": {
          "base_uri": "https://localhost:8080/"
        },
        "id": "VXvF_TJkTfEq",
        "outputId": "a6d7395a-44ae-4add-cdc5-e7ea609da3a3"
      },
      "outputs": [
        {
          "output_type": "stream",
          "name": "stdout",
          "text": [
            "              precision    recall  f1-score   support\n",
            "\n",
            "        High       0.69      0.53      0.60      2995\n",
            "         Low       0.69      0.77      0.73      3165\n",
            "      Medium       0.68      0.72      0.70      6061\n",
            "\n",
            "    accuracy                           0.68     12221\n",
            "   macro avg       0.69      0.67      0.68     12221\n",
            "weighted avg       0.69      0.68      0.68     12221\n",
            "\n",
            "Accuracy Score for depth = 10 is 0.684723017756321\n"
          ]
        }
      ],
      "source": [
        "#Check accuracy \n",
        "\n",
        "import sklearn.metrics as metrics\n",
        "from sklearn.metrics import accuracy_score\n",
        "\n",
        "classTree = DecisionTreeClassifier(max_depth=10, random_state=0, min_samples_leaf=0.005).fit(X_train, y_train)\n",
        "predict = classTree.predict(X_valid)\n",
        "score = metrics.accuracy_score(y_valid,predict)\n",
        "print(classification_report(y_valid, predict))\n",
        "print('Accuracy Score for depth = 10 is', score)\n",
        "\n",
        "#The model has an accuracy of 68%"
      ]
    },
    {
      "cell_type": "code",
      "execution_count": 38,
      "metadata": {
        "colab": {
          "base_uri": "https://localhost:8080/"
        },
        "id": "TsXL4OxsTid2",
        "outputId": "62ba7b8a-f774-4606-d3d6-0e461d717e00"
      },
      "outputs": [
        {
          "output_type": "stream",
          "name": "stdout",
          "text": [
            "Depth = 1 for value: 0.504050405040504\n",
            "Depth = 2 for value: 0.4279518860977007\n",
            "Depth = 3 for value: 0.35586285901317405\n",
            "Depth = 4 for value: 0.3457163898208003\n",
            "Depth = 5 for value: 0.3399067179445217\n",
            "Depth = 6 for value: 0.33434252516160706\n",
            "Depth = 7 for value: 0.32591440962278045\n",
            "Depth = 8 for value: 0.3174044677194992\n",
            "Depth = 9 for value: 0.31134931674985683\n",
            "Depth = 10 for value: 0.3075034776204893\n",
            "Depth = 11 for value: 0.3044759021356681\n",
            "Depth = 12 for value: 0.301202847557483\n",
            "Depth = 13 for value: 0.29662057114802387\n",
            "Depth = 14 for value: 0.29432943294329433\n",
            "Depth = 15 for value: 0.2934293429342934\n",
            "Depth = 16 for value: 0.2968660502413878\n",
            "Depth = 17 for value: 0.2952295229522952\n",
            "Depth = 18 for value: 0.2968660502413878\n",
            "Depth = 19 for value: 0.2965387447835693\n"
          ]
        }
      ],
      "source": [
        "#RandomForest\n",
        "\n",
        "from pathlib import Path\n",
        "from sklearn import tree\n",
        "from sklearn.tree import DecisionTreeClassifier\n",
        "from sklearn.ensemble import RandomForestClassifier\n",
        "from sklearn.model_selection import cross_val_score,GridSearchCV\n",
        "import matplotlib.pylab as plt\n",
        "\n",
        "for i in np.arange(1, 20):\n",
        "  classTree = RandomForestClassifier(max_depth=i, random_state=0).fit(X_train, y_train)\n",
        "  predict = classTree.predict(X_valid)\n",
        "  err = np.mean(predict != y_valid)\n",
        "  value.append(err)\n",
        "  print('Depth =',i,'for value:',err)\n",
        "\n",
        "#The best value of depth is 19 since it has a low error rate"
      ]
    },
    {
      "cell_type": "code",
      "execution_count": 39,
      "metadata": {
        "colab": {
          "base_uri": "https://localhost:8080/"
        },
        "id": "sX9Mj6iXTr7l",
        "outputId": "eee4a372-9ffa-46c6-d611-c6d84d31dfb4"
      },
      "outputs": [
        {
          "output_type": "stream",
          "name": "stdout",
          "text": [
            "              precision    recall  f1-score   support\n",
            "\n",
            "        High       0.70      0.59      0.64      2995\n",
            "         Low       0.72      0.76      0.74      3165\n",
            "      Medium       0.70      0.73      0.71      6061\n",
            "\n",
            "    accuracy                           0.70     12221\n",
            "   macro avg       0.70      0.69      0.70     12221\n",
            "weighted avg       0.70      0.70      0.70     12221\n",
            "\n",
            "Accuracy Score for depth = 19 is 0.7034612552164308\n"
          ]
        }
      ],
      "source": [
        "#Check accuracy \n",
        "\n",
        "import sklearn.metrics as metrics\n",
        "from sklearn.metrics import accuracy_score\n",
        "\n",
        "classTree = RandomForestClassifier(max_depth=19, random_state=0).fit(X_train, y_train)\n",
        "predict = classTree.predict(X_valid)\n",
        "score = metrics.accuracy_score(y_valid,predict)\n",
        "print(classification_report(y_valid, predict))\n",
        "print('Accuracy Score for depth = 19 is', score)\n",
        "\n",
        "#The model has an accuracy of 70%"
      ]
    },
    {
      "cell_type": "code",
      "execution_count": 40,
      "metadata": {
        "colab": {
          "base_uri": "https://localhost:8080/"
        },
        "id": "XmW9DSO6T8k8",
        "outputId": "1d1cd78f-9acb-4542-c9eb-b96ac0ea21a3"
      },
      "outputs": [
        {
          "output_type": "stream",
          "name": "stdout",
          "text": [
            "Depth = 1 for value: 0.3457982161852549\n",
            "Depth = 2 for value: 0.3253416250715981\n",
            "Depth = 3 for value: 0.3084035676294902\n",
            "Depth = 4 for value: 0.30308485393993945\n",
            "Depth = 5 for value: 0.2971933556992063\n",
            "Depth = 6 for value: 0.2935929956632027\n",
            "Depth = 7 for value: 0.2927747320186564\n",
            "Depth = 8 for value: 0.29612961296129614\n",
            "Depth = 9 for value: 0.29351116929874804\n",
            "Depth = 10 for value: 0.29293838474756567\n",
            "Depth = 11 for value: 0.29375664839211196\n",
            "Depth = 12 for value: 0.29923901481057197\n",
            "Depth = 13 for value: 0.2995663202683905\n",
            "Depth = 14 for value: 0.30128467392193764\n",
            "Depth = 15 for value: 0.30013910481957284\n",
            "Depth = 16 for value: 0.3030030275754848\n",
            "Depth = 17 for value: 0.3002209311840275\n",
            "Depth = 18 for value: 0.3036576384911218\n",
            "Depth = 19 for value: 0.30243024302430244\n"
          ]
        }
      ],
      "source": [
        "#xgBoost\n",
        "\n",
        "from pathlib import Path\n",
        "from sklearn import tree\n",
        "from sklearn.tree import DecisionTreeClassifier\n",
        "from sklearn.ensemble import RandomForestClassifier\n",
        "from xgboost import XGBClassifier\n",
        "import matplotlib.pylab as plt\n",
        "\n",
        "for i in np.arange(1, 20):\n",
        "  classTree = XGBClassifier(max_depth=i, eta=0.01).fit(X_train, y_train)\n",
        "  predict = classTree.predict(X_valid)\n",
        "  err = np.mean(predict != y_valid)\n",
        "  value.append(err)\n",
        "  print('Depth =',i,'for value:',err)\n",
        "\n",
        "#The best value of depth is 10 since it has a low error rate"
      ]
    },
    {
      "cell_type": "code",
      "execution_count": 41,
      "metadata": {
        "colab": {
          "base_uri": "https://localhost:8080/"
        },
        "id": "xWLxBYJ3UFdb",
        "outputId": "998365b2-b787-46d2-fddd-88dbefdfebd3"
      },
      "outputs": [
        {
          "output_type": "stream",
          "name": "stdout",
          "text": [
            "              precision    recall  f1-score   support\n",
            "\n",
            "        High       0.71      0.60      0.65      2995\n",
            "         Low       0.72      0.76      0.74      3165\n",
            "      Medium       0.70      0.73      0.72      6061\n",
            "\n",
            "    accuracy                           0.71     12221\n",
            "   macro avg       0.71      0.70      0.70     12221\n",
            "weighted avg       0.71      0.71      0.71     12221\n",
            "\n",
            "Accuracy Score for depth = 10 is 0.7070616152524344\n"
          ]
        }
      ],
      "source": [
        "#Check accuracy \n",
        "\n",
        "import sklearn.metrics as metrics\n",
        "from sklearn.metrics import accuracy_score\n",
        "\n",
        "classTree = XGBClassifier(max_depth=10, eta=0.01).fit(X_train, y_train)\n",
        "predict = classTree.predict(X_valid)\n",
        "score = metrics.accuracy_score(y_valid,predict)\n",
        "print(classification_report(y_valid, predict))\n",
        "print('Accuracy Score for depth = 10 is', score)\n",
        "\n",
        "#The model has an accuracy of 71%"
      ]
    },
    {
      "cell_type": "markdown",
      "source": [
        "Logistic Regression"
      ],
      "metadata": {
        "id": "6fuMHbe6rGPP"
      }
    },
    {
      "cell_type": "code",
      "source": [
        "##Logistic Regression\n",
        "\n",
        "from sklearn.linear_model import LogisticRegression\n",
        "from sklearn.metrics import classification_report, confusion_matrix\n",
        "model = LogisticRegression(solver='liblinear', random_state=42).fit(X_train, y_train)\n",
        "predict_LR = model.predict(X_valid)\n",
        "prob = model.predict_proba(X_valid)\n",
        "\n",
        "print('Accuracy Score:',model.score(X_valid,y_valid))\n",
        "#Classification report\n",
        "print(metrics.classification_report(y_valid,predict_LR,digits=2))"
      ],
      "metadata": {
        "colab": {
          "base_uri": "https://localhost:8080/"
        },
        "id": "bIWMwbgPrAM1",
        "outputId": "9d7a96d9-6be8-435a-d23f-1e5e305d3929"
      },
      "execution_count": 42,
      "outputs": [
        {
          "output_type": "stream",
          "name": "stdout",
          "text": [
            "Accuracy Score: 0.6352998936257263\n",
            "              precision    recall  f1-score   support\n",
            "\n",
            "        High       0.69      0.42      0.52      2995\n",
            "         Low       0.62      0.71      0.67      3165\n",
            "      Medium       0.63      0.70      0.66      6061\n",
            "\n",
            "    accuracy                           0.64     12221\n",
            "   macro avg       0.65      0.61      0.62     12221\n",
            "weighted avg       0.64      0.64      0.63     12221\n",
            "\n"
          ]
        }
      ]
    },
    {
      "cell_type": "code",
      "source": [
        ""
      ],
      "metadata": {
        "id": "WMoPDxO-rMKt"
      },
      "execution_count": 42,
      "outputs": []
    },
    {
      "cell_type": "markdown",
      "metadata": {
        "id": "w_lXZ2CQUXF0"
      },
      "source": [
        "3. Using Naive Bayes Model:"
      ]
    },
    {
      "cell_type": "code",
      "execution_count": 43,
      "metadata": {
        "id": "yTT0quTNUPq0"
      },
      "outputs": [],
      "source": [
        "import matplotlib.pyplot as plt\n",
        "from sklearn import model_selection\n",
        "from sklearn.naive_bayes import GaussianNB\n",
        "from sklearn.metrics import classification_report\n",
        "\n",
        "Naive = GaussianNB().fit(X_train, y_train)\n",
        "predict = Naive.predict(X_valid)"
      ]
    },
    {
      "cell_type": "code",
      "execution_count": 44,
      "metadata": {
        "colab": {
          "base_uri": "https://localhost:8080/"
        },
        "id": "mJwfZJF4Uc9m",
        "outputId": "6c343699-b346-44eb-bd58-4c3fb5ecddfb"
      },
      "outputs": [
        {
          "output_type": "stream",
          "name": "stdout",
          "text": [
            "              precision    recall  f1-score   support\n",
            "\n",
            "        High       0.49      0.80      0.61      2995\n",
            "         Low       0.59      0.76      0.66      3165\n",
            "      Medium       0.65      0.35      0.46      6061\n",
            "\n",
            "    accuracy                           0.57     12221\n",
            "   macro avg       0.58      0.64      0.58     12221\n",
            "weighted avg       0.60      0.57      0.55     12221\n",
            "\n",
            "Accuracy Score is 0.5676294902217495\n"
          ]
        }
      ],
      "source": [
        "#Check accuracy \n",
        "\n",
        "score = metrics.accuracy_score(y_valid,predict)\n",
        "print(classification_report(y_valid, predict))\n",
        "print('Accuracy Score is', score)\n",
        "\n",
        "#The model has an accuracy of 57%"
      ]
    }
  ],
  "metadata": {
    "colab": {
      "collapsed_sections": [],
      "name": "Project (Part 2)-Classification.ipynb",
      "provenance": []
    },
    "kernelspec": {
      "display_name": "Python 3",
      "name": "python3"
    },
    "language_info": {
      "name": "python"
    }
  },
  "nbformat": 4,
  "nbformat_minor": 0
}